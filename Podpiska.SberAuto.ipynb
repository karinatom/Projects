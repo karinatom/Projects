{
 "cells": [
  {
   "cell_type": "markdown",
   "id": "b0a528df-a27e-46a6-89ec-6c0f868ca70c",
   "metadata": {},
   "source": [
    "# Анализ сайта «СберАвтоподписка»"
   ]
  },
  {
   "cell_type": "markdown",
   "id": "8e12ec8e-cfe1-4a41-a544-7f9acd510363",
   "metadata": {},
   "source": [
    "## 0. Введение\n",
    "\n",
    "### Описание данных\n",
    "\n",
    "Датасеты содержат данные из Google Analytics (last-click attribution model) по сайту «СберАвтоподписка»\n",
    "\n",
    "В *GA_Sessions* содержится информация о визитах на сайт\n",
    "\n",
    "**Описание атрибутов:**\n",
    "- session_id — ID визита;\n",
    "- client_id — ID посетителя;\n",
    "- visit_date — дата визита;\n",
    "- visit_time — время визита;\n",
    "- visit_number — порядковый номер визита клиента;\n",
    "- utm_source — канал привлечения;\n",
    "- utm_medium — тип привлечения;\n",
    "- utm_campaign — рекламная кампания;\n",
    "- utm_adcontent — содержание объявления;\n",
    "- utm_keyword — ключевое слово;\n",
    "- device_category — тип устройства;\n",
    "- device_os — ОС устройства;\n",
    "- device_brand — марка устройства;\n",
    "- device_model — модель устройства;\n",
    "- device_screen_resolution — разрешение экрана;\n",
    "- device_browser — браузер;\n",
    "- geo_country — страна;\n",
    "- geo_city — город.\n",
    "\n",
    "В *GA_Hits* информация о событиях на сайте\n",
    "\n",
    "**Описание атрибутов:**\n",
    "- session_id — ID визита;\n",
    "- hit_date — дата события;\n",
    "- hit_time — время события;\n",
    "- hit_number — порядковый номер события в рамках сессии;\n",
    "- hit_type — тип события;\n",
    "- hit_referer — источник события;\n",
    "- hit_page_path — страница события;\n",
    "- event_category — тип действия;\n",
    "- event_action — действие;\n",
    "- event_label — тег действия;\n",
    "- event_value — значение результата действия.\n",
    "\n",
    "### Задачи:\n",
    "\n",
    "**Провести проверку следующих гипотез:**\n",
    "- Органический трафик не отличается от платного с точки зрения CR\n",
    "(Conversion Rate) в целевые события.\n",
    "- Трафик с мобильных устройств не отличается от трафика\n",
    "с десктопных устройств с точки зрения CR (Conversion Rate)\n",
    "в целевые события.\n",
    "- Трафик из городов присутствия (Москва и область, Санкт-Петербург)\n",
    "не отличается от трафика из иных регионов с точки зрения CR\n",
    "(Conversion Rate) в целевые события.\n",
    "\n",
    "**Дать ответы на вопросы продуктовой команды:**\n",
    "- Из каких источников / кампаний / устройств / локаций к нам идёт\n",
    "самый целевой трафик (и с точки зрения объёма трафика, и с точки\n",
    "зрения CR)?\n",
    "- Какие авто пользуются наибольшим спросом? У каких авто самый\n",
    "лучший показатель CR (Conversion Rate) в целевые события?\n",
    "- Стоит ли нам увеличивать своё присутствие в соцсетях и давать там\n",
    "больше рекламы?\n",
    "\n",
    "## [1. Загрузка данных](#1.-Загрузка-данных.)\n",
    "- загрузка библиотек\n",
    "- загрузка датасетов\n",
    "\n",
    "## [2. Подготовка данных](#2.-Подготовка-данных.)\n",
    "- создание дополнительных фичей\n",
    "- удаление лишних колонок\n",
    "- заполнение пропусков в данных\n",
    "- объединение датасетов\n",
    "\n",
    "## [3. Проверка гипотез](#3.-Проверка-гипотез.)\n",
    "\n",
    "## [4. Ответы на вопросы продуктовой команды](#4.-Ответы-на-вопросы-продуктовой-команды.)\n",
    "\n"
   ]
  },
  {
   "cell_type": "markdown",
   "id": "2a63168f-19f2-488b-993d-bc1dc93fe818",
   "metadata": {},
   "source": [
    "## 1. Загрузка данных."
   ]
  },
  {
   "cell_type": "code",
   "execution_count": 1,
   "id": "78a98c64-04df-45ae-84bf-b5b56f33a741",
   "metadata": {},
   "outputs": [],
   "source": [
    "# загрузка библиотек\n",
    "import numpy as np \n",
    "import pandas as pd \n",
    "import seaborn as sns\n",
    "import matplotlib.pyplot as plt\n",
    "import pylab as pl\n",
    "import missingno as msno\n",
    "from scipy import stats \n",
    "\n",
    "from datetime import datetime, date, time\n",
    "\n",
    "import warnings\n",
    "warnings.filterwarnings('ignore')"
   ]
  },
  {
   "cell_type": "code",
   "execution_count": 2,
   "id": "d2f78448-0034-4f2e-aae3-af5dc4954d3a",
   "metadata": {},
   "outputs": [],
   "source": [
    "# загрузка датасетов\n",
    "ga_sessions = pd.read_csv('data/ga_sessions.csv', low_memory=False)\n",
    "ga_hits = pd.read_csv('data/ga_hits.csv')"
   ]
  },
  {
   "cell_type": "code",
   "execution_count": 3,
   "id": "f72c4c24-d85f-4ec4-aa84-b96c409bcb15",
   "metadata": {},
   "outputs": [],
   "source": [
    "# сразу зададим уровень статистической значимости\n",
    "alpha = 0.05\n",
    "\n",
    "# список меток для соцсетей\n",
    "socials = ['QxAxdyPLuQMEcrdZWdWb', 'MvfHsxITijuriZxsqZqt', 'ISrKoXQCxqqYvAZICvjs', 'IZEXUFLARCUMynmHNBGo', 'PlbkrSYoHuZBWfYjYnfw', 'gVRrcxiDQubJiljoTbGm']\n",
    "\n",
    "# список меток органического трафика\n",
    "organic = ['organic', 'refferal', '(none)']\n",
    "\n",
    "# список целевых действий\n",
    "target_actions = ['sub_car_claim_click', 'sub_car_claim_submit_click', 'sub_open_dialog_click', 'sub_custom_question_submit_click', 'sub_call_number_click', \n",
    "                  'sub_callback_submit_click', 'sub_submit_success', 'sub_car_request_submit_click']\n",
    "\n",
    "# список городов в Московской и Ленинградской областях\n",
    "capital_satelites = ['Aprelevka', 'Balashikha', 'Beloozyorskiy', 'Chekhov', 'Chernogolovka', 'Dedovsk', \n",
    " 'Dmitrov', 'Dolgoprudny', 'Domodedovo', 'Dubna', 'Dzerzhinsky','Elektrogorsk', 'Elektrostal', 'Yegoryevsk',\n",
    " 'Elektrougli', 'Fryazino', 'Golitsyno', 'Istra', 'Ivanteyevka', 'Izhevsk', 'Kashira', 'Khimki', \n",
    " 'Khotkovo', 'Klin', 'Kolomna', 'Korolyov', 'Kotelniki', 'Kraskovo','Krasnoarmeysk', 'Krasnogorsk', 'Petrovo-Dalneye',\n",
    " 'Krasnoznamensk', 'Kubinka', 'Kurovskoye', 'Likino-Dulyovo', 'Lobnya', 'Losino-Petrovsky', 'Novoye Devyatkino', \n",
    " 'Lukhovitsy', 'Lytkarino', 'Lyubertsy', 'Mozhaysk', 'Mytishchi', 'Naro-Fominsk', 'Nakhabino', \n",
    " 'Noginsk', 'Odintsovo', 'Orekhovo-Zuyevo', 'Pavlovsky Posad', 'Podolsk', 'Protvino', 'Pushchino', \n",
    " 'Pushkino', 'Ramenskoye', 'Reutov', 'Ruza', 'Sergiyev Posad', 'Serpukhov', 'Solnechnogorsk', \n",
    " 'Staraya Kupavna', 'Stupino', 'Shchyolkovo', 'Shatura', 'Vidnoye', 'Volokolamsk', 'Voskresensk', \n",
    " 'Yakhroma', 'Zheleznodorozhny', 'Zhukovskiy', 'Zvenigorod', 'Moscow', 'Boksitogorsk', 'Volosovo', 'Volkhov', 'Vsevolozhsk', 'Vyborg', 'Vysotsk', 'Gatchina', \n",
    "  'Ivangorod', 'Kamennogorsk', 'Kingisepp', 'Kirishi', 'Kirovsk', 'Communar', 'Kudrovo', \n",
    "  'Lodeynoye Pole', 'Luban', 'Murino', 'Nikolskoye', 'Novaya Ladoga', 'Otradnoe', 'Pikalevo', 'Tomilino',\n",
    "  'Podporozhie', 'Primorsk', 'Priozersk', 'Svetogorsk', 'Sertolovo', \n",
    "  'Slantsy', 'Sosnovy Bor', 'Syasstroy', 'Tikhvin', 'Tosno', 'Shlisselburg', 'Saint Petersburg']"
   ]
  },
  {
   "cell_type": "markdown",
   "id": "8bb2121a-fe49-4495-9b83-e1dc17f85659",
   "metadata": {},
   "source": [
    "## 2. Подготовка данных."
   ]
  },
  {
   "cell_type": "markdown",
   "id": "b213240e-44a4-4acb-8463-af43362399af",
   "metadata": {},
   "source": [
    "### Начнём с *ga_sessions*"
   ]
  },
  {
   "cell_type": "code",
   "execution_count": 4,
   "id": "4a25ebc6-a0ac-489b-8305-0ebc092ffc15",
   "metadata": {},
   "outputs": [
    {
     "name": "stdout",
     "output_type": "stream",
     "text": [
      "(1563538, 18)\n"
     ]
    },
    {
     "data": {
      "text/html": [
       "<div>\n",
       "<style scoped>\n",
       "    .dataframe tbody tr th:only-of-type {\n",
       "        vertical-align: middle;\n",
       "    }\n",
       "\n",
       "    .dataframe tbody tr th {\n",
       "        vertical-align: top;\n",
       "    }\n",
       "\n",
       "    .dataframe thead th {\n",
       "        text-align: right;\n",
       "    }\n",
       "</style>\n",
       "<table border=\"1\" class=\"dataframe\">\n",
       "  <thead>\n",
       "    <tr style=\"text-align: right;\">\n",
       "      <th></th>\n",
       "      <th>session_id</th>\n",
       "      <th>client_id</th>\n",
       "      <th>visit_date</th>\n",
       "      <th>visit_time</th>\n",
       "      <th>visit_number</th>\n",
       "      <th>utm_source</th>\n",
       "      <th>utm_medium</th>\n",
       "      <th>utm_campaign</th>\n",
       "      <th>utm_adcontent</th>\n",
       "      <th>utm_keyword</th>\n",
       "      <th>device_category</th>\n",
       "      <th>device_os</th>\n",
       "      <th>device_brand</th>\n",
       "      <th>device_model</th>\n",
       "      <th>device_screen_resolution</th>\n",
       "      <th>device_browser</th>\n",
       "      <th>geo_country</th>\n",
       "      <th>geo_city</th>\n",
       "    </tr>\n",
       "  </thead>\n",
       "  <tbody>\n",
       "    <tr>\n",
       "      <th>0</th>\n",
       "      <td>9055434745589932991.1637753792.1637753792</td>\n",
       "      <td>2108382700.1637753791</td>\n",
       "      <td>2021-11-24</td>\n",
       "      <td>14:36:32</td>\n",
       "      <td>1.0</td>\n",
       "      <td>ZpYIoDJMcFzVoPFsHGJL</td>\n",
       "      <td>banner</td>\n",
       "      <td>LEoPHuyFvzoNfnzGgfcd</td>\n",
       "      <td>vCIpmpaGBnIQhyYNkXqp</td>\n",
       "      <td>puhZPIYqKXeFPaUviSjo</td>\n",
       "      <td>mobile</td>\n",
       "      <td>Android</td>\n",
       "      <td>Huawei</td>\n",
       "      <td>NaN</td>\n",
       "      <td>360x720</td>\n",
       "      <td>Chrome</td>\n",
       "      <td>Russia</td>\n",
       "      <td>Zlatoust</td>\n",
       "    </tr>\n",
       "    <tr>\n",
       "      <th>1</th>\n",
       "      <td>905544597018549464.1636867290.1636867290</td>\n",
       "      <td>210838531.1636867288</td>\n",
       "      <td>2021-11-14</td>\n",
       "      <td>08:21:30</td>\n",
       "      <td>1.0</td>\n",
       "      <td>MvfHsxITijuriZxsqZqt</td>\n",
       "      <td>cpm</td>\n",
       "      <td>FTjNLDyTrXaWYgZymFkV</td>\n",
       "      <td>xhoenQgDQsgfEPYNPwKO</td>\n",
       "      <td>IGUCNvHlhfHpROGclCit</td>\n",
       "      <td>mobile</td>\n",
       "      <td>Android</td>\n",
       "      <td>Samsung</td>\n",
       "      <td>NaN</td>\n",
       "      <td>385x854</td>\n",
       "      <td>Samsung Internet</td>\n",
       "      <td>Russia</td>\n",
       "      <td>Moscow</td>\n",
       "    </tr>\n",
       "    <tr>\n",
       "      <th>2</th>\n",
       "      <td>9055446045651783499.1640648526.1640648526</td>\n",
       "      <td>2108385331.1640648523</td>\n",
       "      <td>2021-12-28</td>\n",
       "      <td>02:42:06</td>\n",
       "      <td>1.0</td>\n",
       "      <td>ZpYIoDJMcFzVoPFsHGJL</td>\n",
       "      <td>banner</td>\n",
       "      <td>LEoPHuyFvzoNfnzGgfcd</td>\n",
       "      <td>vCIpmpaGBnIQhyYNkXqp</td>\n",
       "      <td>puhZPIYqKXeFPaUviSjo</td>\n",
       "      <td>mobile</td>\n",
       "      <td>Android</td>\n",
       "      <td>Huawei</td>\n",
       "      <td>NaN</td>\n",
       "      <td>360x720</td>\n",
       "      <td>Chrome</td>\n",
       "      <td>Russia</td>\n",
       "      <td>Krasnoyarsk</td>\n",
       "    </tr>\n",
       "    <tr>\n",
       "      <th>3</th>\n",
       "      <td>9055447046360770272.1622255328.1622255328</td>\n",
       "      <td>2108385564.1622255328</td>\n",
       "      <td>2021-05-29</td>\n",
       "      <td>05:00:00</td>\n",
       "      <td>1.0</td>\n",
       "      <td>kjsLglQLzykiRbcDiGcD</td>\n",
       "      <td>cpc</td>\n",
       "      <td>NaN</td>\n",
       "      <td>NOBKLgtuvqYWkXQHeYWM</td>\n",
       "      <td>NaN</td>\n",
       "      <td>mobile</td>\n",
       "      <td>NaN</td>\n",
       "      <td>Xiaomi</td>\n",
       "      <td>NaN</td>\n",
       "      <td>393x786</td>\n",
       "      <td>Chrome</td>\n",
       "      <td>Russia</td>\n",
       "      <td>Moscow</td>\n",
       "    </tr>\n",
       "    <tr>\n",
       "      <th>4</th>\n",
       "      <td>9055447046360770272.1622255345.1622255345</td>\n",
       "      <td>2108385564.1622255328</td>\n",
       "      <td>2021-05-29</td>\n",
       "      <td>05:00:00</td>\n",
       "      <td>2.0</td>\n",
       "      <td>kjsLglQLzykiRbcDiGcD</td>\n",
       "      <td>cpc</td>\n",
       "      <td>NaN</td>\n",
       "      <td>NaN</td>\n",
       "      <td>NaN</td>\n",
       "      <td>mobile</td>\n",
       "      <td>NaN</td>\n",
       "      <td>Xiaomi</td>\n",
       "      <td>NaN</td>\n",
       "      <td>393x786</td>\n",
       "      <td>Chrome</td>\n",
       "      <td>Russia</td>\n",
       "      <td>Moscow</td>\n",
       "    </tr>\n",
       "  </tbody>\n",
       "</table>\n",
       "</div>"
      ],
      "text/plain": [
       "                                  session_id              client_id  \\\n",
       "0  9055434745589932991.1637753792.1637753792  2108382700.1637753791   \n",
       "1   905544597018549464.1636867290.1636867290   210838531.1636867288   \n",
       "2  9055446045651783499.1640648526.1640648526  2108385331.1640648523   \n",
       "3  9055447046360770272.1622255328.1622255328  2108385564.1622255328   \n",
       "4  9055447046360770272.1622255345.1622255345  2108385564.1622255328   \n",
       "\n",
       "   visit_date visit_time  visit_number            utm_source utm_medium  \\\n",
       "0  2021-11-24   14:36:32           1.0  ZpYIoDJMcFzVoPFsHGJL     banner   \n",
       "1  2021-11-14   08:21:30           1.0  MvfHsxITijuriZxsqZqt        cpm   \n",
       "2  2021-12-28   02:42:06           1.0  ZpYIoDJMcFzVoPFsHGJL     banner   \n",
       "3  2021-05-29   05:00:00           1.0  kjsLglQLzykiRbcDiGcD        cpc   \n",
       "4  2021-05-29   05:00:00           2.0  kjsLglQLzykiRbcDiGcD        cpc   \n",
       "\n",
       "           utm_campaign         utm_adcontent           utm_keyword  \\\n",
       "0  LEoPHuyFvzoNfnzGgfcd  vCIpmpaGBnIQhyYNkXqp  puhZPIYqKXeFPaUviSjo   \n",
       "1  FTjNLDyTrXaWYgZymFkV  xhoenQgDQsgfEPYNPwKO  IGUCNvHlhfHpROGclCit   \n",
       "2  LEoPHuyFvzoNfnzGgfcd  vCIpmpaGBnIQhyYNkXqp  puhZPIYqKXeFPaUviSjo   \n",
       "3                   NaN  NOBKLgtuvqYWkXQHeYWM                   NaN   \n",
       "4                   NaN                   NaN                   NaN   \n",
       "\n",
       "  device_category device_os device_brand device_model  \\\n",
       "0          mobile   Android       Huawei          NaN   \n",
       "1          mobile   Android      Samsung          NaN   \n",
       "2          mobile   Android       Huawei          NaN   \n",
       "3          mobile       NaN       Xiaomi          NaN   \n",
       "4          mobile       NaN       Xiaomi          NaN   \n",
       "\n",
       "  device_screen_resolution    device_browser geo_country     geo_city  \n",
       "0                  360x720            Chrome      Russia     Zlatoust  \n",
       "1                  385x854  Samsung Internet      Russia       Moscow  \n",
       "2                  360x720            Chrome      Russia  Krasnoyarsk  \n",
       "3                  393x786            Chrome      Russia       Moscow  \n",
       "4                  393x786            Chrome      Russia       Moscow  "
      ]
     },
     "execution_count": 4,
     "metadata": {},
     "output_type": "execute_result"
    }
   ],
   "source": [
    "print(ga_sessions.shape)\n",
    "ga_sessions.head()"
   ]
  },
  {
   "cell_type": "code",
   "execution_count": 5,
   "id": "f456da34-20e8-464c-a25c-59b549bc1a8e",
   "metadata": {},
   "outputs": [
    {
     "name": "stdout",
     "output_type": "stream",
     "text": [
      "Кол-во дубликатов в данных: 0\n"
     ]
    }
   ],
   "source": [
    "# проверим, есть ли в данных дубликаты\n",
    "print('Кол-во дубликатов в данных:', ga_sessions.duplicated().sum())"
   ]
  },
  {
   "cell_type": "markdown",
   "id": "6ea7b7d8-eb40-410b-bd16-bba139499339",
   "metadata": {},
   "source": [
    "Для анализа нам нужны только два типа устройств – `mobile` и `desktop`, но в данных есть ещё планшеты. \n",
    "Видим, что их меньше процента от общего объёма трафика, поэтому приравняем планшеты к мобильным устройствам"
   ]
  },
  {
   "cell_type": "code",
   "execution_count": 6,
   "id": "8ee27f14-43e7-423b-9c44-c4f57b724a7d",
   "metadata": {},
   "outputs": [
    {
     "data": {
      "text/plain": [
       "device_category\n",
       "desktop    19.756092\n",
       "mobile     79.264271\n",
       "tablet      0.979573\n",
       "Name: session_id, dtype: float64"
      ]
     },
     "execution_count": 6,
     "metadata": {},
     "output_type": "execute_result"
    }
   ],
   "source": [
    "ga_sessions.groupby('device_category')['session_id'].nunique() / len(ga_sessions) * 100"
   ]
  },
  {
   "cell_type": "code",
   "execution_count": 7,
   "id": "1abc7e14-bb4f-4739-9393-559249bb0d77",
   "metadata": {},
   "outputs": [],
   "source": [
    "ga_sessions.device_category[ga_sessions.device_category == 'tablet'] = 'mobile'"
   ]
  },
  {
   "cell_type": "markdown",
   "id": "b6eb898d-1511-4597-9683-d6e518987034",
   "metadata": {},
   "source": [
    "Поменяем формат колонки `visit_date` на `datetime` и создадим доп колонку с номером месяца для последующей группировки. Данные представлены только за один год, поэтому отдельно выносить его значение не будем"
   ]
  },
  {
   "cell_type": "code",
   "execution_count": 8,
   "id": "f8ee6313-5fda-4a05-89cd-4a887476b8d0",
   "metadata": {},
   "outputs": [],
   "source": [
    "ga_sessions.visit_date = pd.to_datetime(ga_sessions.visit_date)\n",
    "ga_sessions['visit_month'] = ga_sessions.visit_date.apply(\n",
    "    lambda x: x.month)"
   ]
  },
  {
   "cell_type": "markdown",
   "id": "d804bfad-39ab-4da7-945e-271b1a77d228",
   "metadata": {},
   "source": [
    "Создадим дополнительные категории\n",
    "\n",
    "Трафик разделим на рекламный и органический, и отделим трафик из соцсетей от других источников\n",
    "\n",
    "Географию поделим на столицы и остальные регионы"
   ]
  },
  {
   "cell_type": "code",
   "execution_count": 9,
   "id": "051a7749-37a2-4045-a054-6d66a23a905e",
   "metadata": {},
   "outputs": [],
   "source": [
    "ga_sessions['geo_category'] = ga_sessions.geo_city.apply(\n",
    "    lambda x: 'capital' if x in capital_satelites else 'other')\n",
    "\n",
    "ga_sessions['trafic_type'] = ga_sessions.utm_medium.apply(\n",
    "    lambda x: 'organic' if x in organic else 'ads')\n",
    "\n",
    "ga_sessions['source_type'] = ga_sessions.utm_source.apply(\n",
    "    lambda x: 'social' if x in socials else 'other')"
   ]
  },
  {
   "cell_type": "markdown",
   "id": "d27328bf-6e1f-48ef-ad67-1f52ffc3800e",
   "metadata": {},
   "source": [
    "Удалим колонки, которые нам не понадобятся для анализа"
   ]
  },
  {
   "cell_type": "code",
   "execution_count": 10,
   "id": "bd09f5e5-33ef-4e54-ba7f-1c38190396ed",
   "metadata": {},
   "outputs": [],
   "source": [
    "ga_sessions = ga_sessions.drop(columns=['visit_time', 'visit_date', 'visit_number', 'client_id', 'device_model', 'utm_keyword', 'device_os', 'device_screen_resolution', 'device_browser', 'utm_medium', 'utm_adcontent', 'device_brand'])"
   ]
  },
  {
   "cell_type": "markdown",
   "id": "98351101-bf80-4ed7-8973-62f45f06b0fb",
   "metadata": {},
   "source": [
    "Оработаем пропуски в данных"
   ]
  },
  {
   "cell_type": "code",
   "execution_count": 11,
   "id": "91c58d20-44e5-4c33-b2a0-16564c8c97f5",
   "metadata": {},
   "outputs": [
    {
     "name": "stdout",
     "output_type": "stream",
     "text": [
      "Процент пропущенных значений:\n",
      "utm_campaign       11.786026\n",
      "utm_source          0.005308\n",
      "device_category     0.000064\n",
      "geo_country         0.000064\n",
      "geo_city            0.000064\n",
      "visit_month         0.000064\n",
      "session_id          0.000000\n",
      "geo_category        0.000000\n",
      "trafic_type         0.000000\n",
      "source_type         0.000000\n",
      "dtype: float64\n"
     ]
    }
   ],
   "source": [
    "# посмотрим процент пропущенных значений для каждого признака\n",
    "missing_values = (ga_sessions.isna().sum() / len(ga_sessions) * 100).sort_values(ascending=False)\n",
    "print('Процент пропущенных значений:')\n",
    "print(missing_values) "
   ]
  },
  {
   "cell_type": "markdown",
   "id": "0c8a4c5e-a397-491c-b6e4-937b34a3d5aa",
   "metadata": {},
   "source": [
    "Пропуски в `utm_source` и `utm_campaign` заменим на значение (not set), так же как неопределенные источники обозначается в Google Аналитике"
   ]
  },
  {
   "cell_type": "code",
   "execution_count": 12,
   "id": "cdb88e47-2b32-449b-ae03-35f6154d0951",
   "metadata": {
    "tags": []
   },
   "outputs": [],
   "source": [
    "ga_sessions.utm_source = ga_sessions.utm_source.fillna('(not set)')\n",
    "ga_sessions.utm_campaign = ga_sessions.utm_campaign.fillna('(not set)')"
   ]
  },
  {
   "cell_type": "markdown",
   "id": "86b8663d-ce48-4842-9665-bca6240e2265",
   "metadata": {},
   "source": [
    "Строки с пропусками в признаках `device_category`, `geo_country`, `geo_city`, и `visit_month` можно просто удалить, в датасете их очень мало"
   ]
  },
  {
   "cell_type": "code",
   "execution_count": 13,
   "id": "284da5c6-cad4-4f92-b3bf-10981ef2494b",
   "metadata": {},
   "outputs": [],
   "source": [
    "ga_sessions = ga_sessions.dropna(subset=['device_category', 'geo_country', 'geo_city', 'visit_month'])"
   ]
  },
  {
   "cell_type": "markdown",
   "id": "01b01979-7004-457f-89cd-59e1b1c69a42",
   "metadata": {},
   "source": [
    "Посмотрим на результат и запишем обработанный датасет в csv файл для дальнейшей работы"
   ]
  },
  {
   "cell_type": "code",
   "execution_count": 14,
   "id": "3d2bd692-eab5-4a4d-8cda-5f8ecf4aea14",
   "metadata": {},
   "outputs": [
    {
     "name": "stdout",
     "output_type": "stream",
     "text": [
      "(1563537, 10)\n"
     ]
    },
    {
     "data": {
      "text/html": [
       "<div>\n",
       "<style scoped>\n",
       "    .dataframe tbody tr th:only-of-type {\n",
       "        vertical-align: middle;\n",
       "    }\n",
       "\n",
       "    .dataframe tbody tr th {\n",
       "        vertical-align: top;\n",
       "    }\n",
       "\n",
       "    .dataframe thead th {\n",
       "        text-align: right;\n",
       "    }\n",
       "</style>\n",
       "<table border=\"1\" class=\"dataframe\">\n",
       "  <thead>\n",
       "    <tr style=\"text-align: right;\">\n",
       "      <th></th>\n",
       "      <th>session_id</th>\n",
       "      <th>utm_source</th>\n",
       "      <th>utm_campaign</th>\n",
       "      <th>device_category</th>\n",
       "      <th>geo_country</th>\n",
       "      <th>geo_city</th>\n",
       "      <th>visit_month</th>\n",
       "      <th>geo_category</th>\n",
       "      <th>trafic_type</th>\n",
       "      <th>source_type</th>\n",
       "    </tr>\n",
       "  </thead>\n",
       "  <tbody>\n",
       "    <tr>\n",
       "      <th>0</th>\n",
       "      <td>9055434745589932991.1637753792.1637753792</td>\n",
       "      <td>ZpYIoDJMcFzVoPFsHGJL</td>\n",
       "      <td>LEoPHuyFvzoNfnzGgfcd</td>\n",
       "      <td>mobile</td>\n",
       "      <td>Russia</td>\n",
       "      <td>Zlatoust</td>\n",
       "      <td>11.0</td>\n",
       "      <td>other</td>\n",
       "      <td>ads</td>\n",
       "      <td>other</td>\n",
       "    </tr>\n",
       "    <tr>\n",
       "      <th>1</th>\n",
       "      <td>905544597018549464.1636867290.1636867290</td>\n",
       "      <td>MvfHsxITijuriZxsqZqt</td>\n",
       "      <td>FTjNLDyTrXaWYgZymFkV</td>\n",
       "      <td>mobile</td>\n",
       "      <td>Russia</td>\n",
       "      <td>Moscow</td>\n",
       "      <td>11.0</td>\n",
       "      <td>capital</td>\n",
       "      <td>ads</td>\n",
       "      <td>social</td>\n",
       "    </tr>\n",
       "    <tr>\n",
       "      <th>2</th>\n",
       "      <td>9055446045651783499.1640648526.1640648526</td>\n",
       "      <td>ZpYIoDJMcFzVoPFsHGJL</td>\n",
       "      <td>LEoPHuyFvzoNfnzGgfcd</td>\n",
       "      <td>mobile</td>\n",
       "      <td>Russia</td>\n",
       "      <td>Krasnoyarsk</td>\n",
       "      <td>12.0</td>\n",
       "      <td>other</td>\n",
       "      <td>ads</td>\n",
       "      <td>other</td>\n",
       "    </tr>\n",
       "    <tr>\n",
       "      <th>3</th>\n",
       "      <td>9055447046360770272.1622255328.1622255328</td>\n",
       "      <td>kjsLglQLzykiRbcDiGcD</td>\n",
       "      <td>(not set)</td>\n",
       "      <td>mobile</td>\n",
       "      <td>Russia</td>\n",
       "      <td>Moscow</td>\n",
       "      <td>5.0</td>\n",
       "      <td>capital</td>\n",
       "      <td>ads</td>\n",
       "      <td>other</td>\n",
       "    </tr>\n",
       "    <tr>\n",
       "      <th>4</th>\n",
       "      <td>9055447046360770272.1622255345.1622255345</td>\n",
       "      <td>kjsLglQLzykiRbcDiGcD</td>\n",
       "      <td>(not set)</td>\n",
       "      <td>mobile</td>\n",
       "      <td>Russia</td>\n",
       "      <td>Moscow</td>\n",
       "      <td>5.0</td>\n",
       "      <td>capital</td>\n",
       "      <td>ads</td>\n",
       "      <td>other</td>\n",
       "    </tr>\n",
       "  </tbody>\n",
       "</table>\n",
       "</div>"
      ],
      "text/plain": [
       "                                  session_id            utm_source  \\\n",
       "0  9055434745589932991.1637753792.1637753792  ZpYIoDJMcFzVoPFsHGJL   \n",
       "1   905544597018549464.1636867290.1636867290  MvfHsxITijuriZxsqZqt   \n",
       "2  9055446045651783499.1640648526.1640648526  ZpYIoDJMcFzVoPFsHGJL   \n",
       "3  9055447046360770272.1622255328.1622255328  kjsLglQLzykiRbcDiGcD   \n",
       "4  9055447046360770272.1622255345.1622255345  kjsLglQLzykiRbcDiGcD   \n",
       "\n",
       "           utm_campaign device_category geo_country     geo_city  visit_month  \\\n",
       "0  LEoPHuyFvzoNfnzGgfcd          mobile      Russia     Zlatoust         11.0   \n",
       "1  FTjNLDyTrXaWYgZymFkV          mobile      Russia       Moscow         11.0   \n",
       "2  LEoPHuyFvzoNfnzGgfcd          mobile      Russia  Krasnoyarsk         12.0   \n",
       "3             (not set)          mobile      Russia       Moscow          5.0   \n",
       "4             (not set)          mobile      Russia       Moscow          5.0   \n",
       "\n",
       "  geo_category trafic_type source_type  \n",
       "0        other         ads       other  \n",
       "1      capital         ads      social  \n",
       "2        other         ads       other  \n",
       "3      capital         ads       other  \n",
       "4      capital         ads       other  "
      ]
     },
     "execution_count": 14,
     "metadata": {},
     "output_type": "execute_result"
    }
   ],
   "source": [
    "print(ga_sessions.shape)\n",
    "ga_sessions.head()"
   ]
  },
  {
   "cell_type": "code",
   "execution_count": 18,
   "id": "802a1825-ce37-4a01-b69e-75a4950f148b",
   "metadata": {},
   "outputs": [],
   "source": [
    "ga_sessions.to_csv('data/ga_sessions_cleaned.csv', index=False)"
   ]
  },
  {
   "cell_type": "markdown",
   "id": "f25fbec0-f329-4172-905e-dbd43607aa19",
   "metadata": {},
   "source": [
    "### Переходим к *ga_hits*"
   ]
  },
  {
   "cell_type": "code",
   "execution_count": 19,
   "id": "9a97437e-cf0b-4f35-bc5a-98763d37f03c",
   "metadata": {},
   "outputs": [
    {
     "name": "stdout",
     "output_type": "stream",
     "text": [
      "(15726470, 11)\n"
     ]
    },
    {
     "data": {
      "text/html": [
       "<div>\n",
       "<style scoped>\n",
       "    .dataframe tbody tr th:only-of-type {\n",
       "        vertical-align: middle;\n",
       "    }\n",
       "\n",
       "    .dataframe tbody tr th {\n",
       "        vertical-align: top;\n",
       "    }\n",
       "\n",
       "    .dataframe thead th {\n",
       "        text-align: right;\n",
       "    }\n",
       "</style>\n",
       "<table border=\"1\" class=\"dataframe\">\n",
       "  <thead>\n",
       "    <tr style=\"text-align: right;\">\n",
       "      <th></th>\n",
       "      <th>session_id</th>\n",
       "      <th>hit_date</th>\n",
       "      <th>hit_time</th>\n",
       "      <th>hit_number</th>\n",
       "      <th>hit_type</th>\n",
       "      <th>hit_referer</th>\n",
       "      <th>hit_page_path</th>\n",
       "      <th>event_category</th>\n",
       "      <th>event_action</th>\n",
       "      <th>event_label</th>\n",
       "      <th>event_value</th>\n",
       "    </tr>\n",
       "  </thead>\n",
       "  <tbody>\n",
       "    <tr>\n",
       "      <th>0</th>\n",
       "      <td>5639623078712724064.1640254056.1640254056</td>\n",
       "      <td>2021-12-23</td>\n",
       "      <td>597864.0</td>\n",
       "      <td>30</td>\n",
       "      <td>event</td>\n",
       "      <td>NaN</td>\n",
       "      <td>sberauto.com/cars?utm_source_initial=google&amp;ut...</td>\n",
       "      <td>quiz</td>\n",
       "      <td>quiz_show</td>\n",
       "      <td>NaN</td>\n",
       "      <td>NaN</td>\n",
       "    </tr>\n",
       "    <tr>\n",
       "      <th>1</th>\n",
       "      <td>7750352294969115059.1640271109.1640271109</td>\n",
       "      <td>2021-12-23</td>\n",
       "      <td>597331.0</td>\n",
       "      <td>41</td>\n",
       "      <td>event</td>\n",
       "      <td>NaN</td>\n",
       "      <td>sberauto.com/cars/fiat?city=1&amp;city=18&amp;rental_c...</td>\n",
       "      <td>quiz</td>\n",
       "      <td>quiz_show</td>\n",
       "      <td>NaN</td>\n",
       "      <td>NaN</td>\n",
       "    </tr>\n",
       "    <tr>\n",
       "      <th>2</th>\n",
       "      <td>885342191847998240.1640235807.1640235807</td>\n",
       "      <td>2021-12-23</td>\n",
       "      <td>796252.0</td>\n",
       "      <td>49</td>\n",
       "      <td>event</td>\n",
       "      <td>NaN</td>\n",
       "      <td>sberauto.com/cars/all/volkswagen/polo/e994838f...</td>\n",
       "      <td>quiz</td>\n",
       "      <td>quiz_show</td>\n",
       "      <td>NaN</td>\n",
       "      <td>NaN</td>\n",
       "    </tr>\n",
       "    <tr>\n",
       "      <th>3</th>\n",
       "      <td>142526202120934167.1640211014.1640211014</td>\n",
       "      <td>2021-12-23</td>\n",
       "      <td>934292.0</td>\n",
       "      <td>46</td>\n",
       "      <td>event</td>\n",
       "      <td>NaN</td>\n",
       "      <td>sberauto.com/cars?utm_source_initial=yandex&amp;ut...</td>\n",
       "      <td>quiz</td>\n",
       "      <td>quiz_show</td>\n",
       "      <td>NaN</td>\n",
       "      <td>NaN</td>\n",
       "    </tr>\n",
       "    <tr>\n",
       "      <th>4</th>\n",
       "      <td>3450086108837475701.1640265078.1640265078</td>\n",
       "      <td>2021-12-23</td>\n",
       "      <td>768741.0</td>\n",
       "      <td>79</td>\n",
       "      <td>event</td>\n",
       "      <td>NaN</td>\n",
       "      <td>sberauto.com/cars/all/mercedes-benz/cla-klasse...</td>\n",
       "      <td>quiz</td>\n",
       "      <td>quiz_show</td>\n",
       "      <td>NaN</td>\n",
       "      <td>NaN</td>\n",
       "    </tr>\n",
       "  </tbody>\n",
       "</table>\n",
       "</div>"
      ],
      "text/plain": [
       "                                  session_id    hit_date  hit_time  \\\n",
       "0  5639623078712724064.1640254056.1640254056  2021-12-23  597864.0   \n",
       "1  7750352294969115059.1640271109.1640271109  2021-12-23  597331.0   \n",
       "2   885342191847998240.1640235807.1640235807  2021-12-23  796252.0   \n",
       "3   142526202120934167.1640211014.1640211014  2021-12-23  934292.0   \n",
       "4  3450086108837475701.1640265078.1640265078  2021-12-23  768741.0   \n",
       "\n",
       "   hit_number hit_type hit_referer  \\\n",
       "0          30    event         NaN   \n",
       "1          41    event         NaN   \n",
       "2          49    event         NaN   \n",
       "3          46    event         NaN   \n",
       "4          79    event         NaN   \n",
       "\n",
       "                                       hit_page_path event_category  \\\n",
       "0  sberauto.com/cars?utm_source_initial=google&ut...           quiz   \n",
       "1  sberauto.com/cars/fiat?city=1&city=18&rental_c...           quiz   \n",
       "2  sberauto.com/cars/all/volkswagen/polo/e994838f...           quiz   \n",
       "3  sberauto.com/cars?utm_source_initial=yandex&ut...           quiz   \n",
       "4  sberauto.com/cars/all/mercedes-benz/cla-klasse...           quiz   \n",
       "\n",
       "  event_action event_label  event_value  \n",
       "0    quiz_show         NaN          NaN  \n",
       "1    quiz_show         NaN          NaN  \n",
       "2    quiz_show         NaN          NaN  \n",
       "3    quiz_show         NaN          NaN  \n",
       "4    quiz_show         NaN          NaN  "
      ]
     },
     "execution_count": 19,
     "metadata": {},
     "output_type": "execute_result"
    }
   ],
   "source": [
    "print(ga_hits.shape)\n",
    "ga_hits.head()"
   ]
  },
  {
   "cell_type": "code",
   "execution_count": 20,
   "id": "20a3a0df-bd7c-436f-8152-63fef93d5a89",
   "metadata": {},
   "outputs": [
    {
     "name": "stdout",
     "output_type": "stream",
     "text": [
      "Кол-во дубликатов в данных: 0\n"
     ]
    }
   ],
   "source": [
    "# проверим, есть ли в данных дубликаты\n",
    "print('Кол-во дубликатов в данных:', ga_hits.duplicated().sum())"
   ]
  },
  {
   "cell_type": "markdown",
   "id": "a43eecee-14b3-472b-b8df-24c1f8e881f3",
   "metadata": {},
   "source": [
    "Т.к. у нас стоит задача определять качество трафика только для целевых действий, разделим целевые и все остальные действия"
   ]
  },
  {
   "cell_type": "code",
   "execution_count": 21,
   "id": "a904f5cb-154e-459f-88cc-f24edf0c2070",
   "metadata": {},
   "outputs": [],
   "source": [
    "ga_hits.hit_type = ga_hits.event_action.apply(\n",
    "    lambda x: 'target event' if x in target_actions else 'event')"
   ]
  },
  {
   "cell_type": "markdown",
   "id": "77d09c17-bbdd-4d82-83f2-c134215ff54a",
   "metadata": {},
   "source": [
    "Для анализа нам понадобится информация о марках авто, достанем её из `hit_page_path`"
   ]
  },
  {
   "cell_type": "code",
   "execution_count": 22,
   "id": "d5724b46-8c82-4d71-bcfe-9637c873273f",
   "metadata": {},
   "outputs": [],
   "source": [
    "ga_hits['model'] = ga_hits.hit_page_path.apply(\n",
    "    lambda x: x[x.find('/cars/all') + 10:].split('/')[0]+' '+x[x.find('/cars/all') + 10:].split('/')[1] if x.find('/cars/all') > -1 else 'other')"
   ]
  },
  {
   "cell_type": "markdown",
   "id": "59dbd0c5-8a91-4a22-bec4-f8ced4fa9b6e",
   "metadata": {},
   "source": [
    "Удалим колонки, которые нам не понадобятся и заполним пропуски, если они есть"
   ]
  },
  {
   "cell_type": "code",
   "execution_count": 23,
   "id": "3d8f71f7-fc10-43f2-9d1e-d612bc6141ab",
   "metadata": {},
   "outputs": [],
   "source": [
    "ga_hits = ga_hits.drop(columns=['hit_date', 'hit_time', 'hit_number', 'hit_referer', 'hit_page_path', 'event_category', 'event_action', 'event_label', 'event_value'])"
   ]
  },
  {
   "cell_type": "code",
   "execution_count": 24,
   "id": "7aa9b683-2450-40d3-b6c4-7bb367afe9b5",
   "metadata": {},
   "outputs": [
    {
     "data": {
      "text/plain": [
       "session_id    0\n",
       "hit_type      0\n",
       "model         0\n",
       "dtype: int64"
      ]
     },
     "execution_count": 24,
     "metadata": {},
     "output_type": "execute_result"
    }
   ],
   "source": [
    "# пропусков нет\n",
    "ga_hits.isnull().sum()"
   ]
  },
  {
   "cell_type": "markdown",
   "id": "bc258e20-ce35-4688-8b1d-b9b2bb2ef43d",
   "metadata": {},
   "source": [
    "Сгруппируем данные по уникальным `session_id`, посмотрим на результат и сохраним обработанный датасет для дальнейшей работы"
   ]
  },
  {
   "cell_type": "code",
   "execution_count": 25,
   "id": "b4daf044-d42f-480a-a9bc-bd7cabaf86bc",
   "metadata": {},
   "outputs": [],
   "source": [
    "target_event = ga_hits[ga_hits.hit_type == 'target event'].groupby('session_id')['hit_type', 'model'].first().reset_index() # уникальные сессии с целевым действием\n",
    "event = ga_hits[ga_hits.hit_type == 'event'].groupby('session_id')['hit_type', 'model'].first().reset_index() # уникальные сессии с остальными действиями\n",
    "conc = pd.concat([target_event, event]) # объединила датафреймы\n",
    "ga_hits = conc.groupby('session_id')['hit_type', 'model'].first().reset_index() # оставила уникальные значения session id"
   ]
  },
  {
   "cell_type": "code",
   "execution_count": 26,
   "id": "57e2aa8a-c495-4b5b-88a3-cb3f47aadfe1",
   "metadata": {},
   "outputs": [
    {
     "name": "stdout",
     "output_type": "stream",
     "text": [
      "(1734610, 3)\n"
     ]
    },
    {
     "data": {
      "text/html": [
       "<div>\n",
       "<style scoped>\n",
       "    .dataframe tbody tr th:only-of-type {\n",
       "        vertical-align: middle;\n",
       "    }\n",
       "\n",
       "    .dataframe tbody tr th {\n",
       "        vertical-align: top;\n",
       "    }\n",
       "\n",
       "    .dataframe thead th {\n",
       "        text-align: right;\n",
       "    }\n",
       "</style>\n",
       "<table border=\"1\" class=\"dataframe\">\n",
       "  <thead>\n",
       "    <tr style=\"text-align: right;\">\n",
       "      <th></th>\n",
       "      <th>session_id</th>\n",
       "      <th>hit_type</th>\n",
       "      <th>model</th>\n",
       "    </tr>\n",
       "  </thead>\n",
       "  <tbody>\n",
       "    <tr>\n",
       "      <th>0</th>\n",
       "      <td>1000009318903347362.1632663668.1632663668</td>\n",
       "      <td>event</td>\n",
       "      <td>other</td>\n",
       "    </tr>\n",
       "    <tr>\n",
       "      <th>1</th>\n",
       "      <td>1000010177899156286.1635013443.1635013443</td>\n",
       "      <td>event</td>\n",
       "      <td>other</td>\n",
       "    </tr>\n",
       "    <tr>\n",
       "      <th>2</th>\n",
       "      <td>1000013386240115915.1635402956.1635402956</td>\n",
       "      <td>event</td>\n",
       "      <td>lada-vaz vesta</td>\n",
       "    </tr>\n",
       "    <tr>\n",
       "      <th>3</th>\n",
       "      <td>1000017303238376207.1623489300.1623489300</td>\n",
       "      <td>event</td>\n",
       "      <td>other</td>\n",
       "    </tr>\n",
       "    <tr>\n",
       "      <th>4</th>\n",
       "      <td>1000020580299877109.1624943350.1624943350</td>\n",
       "      <td>event</td>\n",
       "      <td>other</td>\n",
       "    </tr>\n",
       "  </tbody>\n",
       "</table>\n",
       "</div>"
      ],
      "text/plain": [
       "                                  session_id hit_type           model\n",
       "0  1000009318903347362.1632663668.1632663668    event           other\n",
       "1  1000010177899156286.1635013443.1635013443    event           other\n",
       "2  1000013386240115915.1635402956.1635402956    event  lada-vaz vesta\n",
       "3  1000017303238376207.1623489300.1623489300    event           other\n",
       "4  1000020580299877109.1624943350.1624943350    event           other"
      ]
     },
     "execution_count": 26,
     "metadata": {},
     "output_type": "execute_result"
    }
   ],
   "source": [
    "print(ga_hits.shape)\n",
    "ga_hits.head()"
   ]
  },
  {
   "cell_type": "code",
   "execution_count": 27,
   "id": "b1301736-eeff-4c31-9594-f819cabbc903",
   "metadata": {},
   "outputs": [],
   "source": [
    "ga_hits.to_csv('data/ga_hits_cleaned.csv', index=False)"
   ]
  },
  {
   "cell_type": "markdown",
   "id": "e5630ee9-2248-42d4-b5d7-a96e6d4f434c",
   "metadata": {},
   "source": [
    "Cоединим подготовленные датасеты по `session_id` и посмотрим на итоговый датасет"
   ]
  },
  {
   "cell_type": "code",
   "execution_count": 28,
   "id": "379485a1-f236-4648-9d11-a53c90caf7de",
   "metadata": {},
   "outputs": [],
   "source": [
    "ga_hits_clean = pd.read_csv('data/ga_hits_cleaned.csv')\n",
    "ga_sessions_clean = pd.read_csv('data/ga_sessions_cleaned.csv', low_memory=False)"
   ]
  },
  {
   "cell_type": "code",
   "execution_count": 29,
   "id": "ac38eb79-5cdc-4282-a06a-926f2a71bee6",
   "metadata": {},
   "outputs": [],
   "source": [
    "merged_data = pd.merge(ga_sessions_clean, ga_hits_clean, how='left', on='session_id')"
   ]
  },
  {
   "cell_type": "markdown",
   "id": "a21633ad-5250-4d30-a65b-dfdc8da97646",
   "metadata": {},
   "source": [
    "Создадим колонку с `CR` в целевое действие"
   ]
  },
  {
   "cell_type": "code",
   "execution_count": 30,
   "id": "d764e267-58ea-4a2b-9288-6ccc772c2e0b",
   "metadata": {},
   "outputs": [],
   "source": [
    "merged_data['CR'] = merged_data.hit_type.apply(\n",
    "    lambda x: 100 if x == 'target event' else 0)"
   ]
  },
  {
   "cell_type": "code",
   "execution_count": 31,
   "id": "d0371d4d-03a1-4c11-8548-223ab1cb96e5",
   "metadata": {},
   "outputs": [
    {
     "name": "stdout",
     "output_type": "stream",
     "text": [
      "(1563537, 13)\n"
     ]
    },
    {
     "data": {
      "text/html": [
       "<div>\n",
       "<style scoped>\n",
       "    .dataframe tbody tr th:only-of-type {\n",
       "        vertical-align: middle;\n",
       "    }\n",
       "\n",
       "    .dataframe tbody tr th {\n",
       "        vertical-align: top;\n",
       "    }\n",
       "\n",
       "    .dataframe thead th {\n",
       "        text-align: right;\n",
       "    }\n",
       "</style>\n",
       "<table border=\"1\" class=\"dataframe\">\n",
       "  <thead>\n",
       "    <tr style=\"text-align: right;\">\n",
       "      <th></th>\n",
       "      <th>session_id</th>\n",
       "      <th>utm_source</th>\n",
       "      <th>utm_campaign</th>\n",
       "      <th>device_category</th>\n",
       "      <th>geo_country</th>\n",
       "      <th>geo_city</th>\n",
       "      <th>visit_month</th>\n",
       "      <th>geo_category</th>\n",
       "      <th>trafic_type</th>\n",
       "      <th>source_type</th>\n",
       "      <th>hit_type</th>\n",
       "      <th>model</th>\n",
       "      <th>CR</th>\n",
       "    </tr>\n",
       "  </thead>\n",
       "  <tbody>\n",
       "    <tr>\n",
       "      <th>0</th>\n",
       "      <td>9055434745589932991.1637753792.1637753792</td>\n",
       "      <td>ZpYIoDJMcFzVoPFsHGJL</td>\n",
       "      <td>LEoPHuyFvzoNfnzGgfcd</td>\n",
       "      <td>mobile</td>\n",
       "      <td>Russia</td>\n",
       "      <td>Zlatoust</td>\n",
       "      <td>11.0</td>\n",
       "      <td>other</td>\n",
       "      <td>ads</td>\n",
       "      <td>other</td>\n",
       "      <td>event</td>\n",
       "      <td>other</td>\n",
       "      <td>0</td>\n",
       "    </tr>\n",
       "    <tr>\n",
       "      <th>1</th>\n",
       "      <td>905544597018549464.1636867290.1636867290</td>\n",
       "      <td>MvfHsxITijuriZxsqZqt</td>\n",
       "      <td>FTjNLDyTrXaWYgZymFkV</td>\n",
       "      <td>mobile</td>\n",
       "      <td>Russia</td>\n",
       "      <td>Moscow</td>\n",
       "      <td>11.0</td>\n",
       "      <td>capital</td>\n",
       "      <td>ads</td>\n",
       "      <td>social</td>\n",
       "      <td>event</td>\n",
       "      <td>other</td>\n",
       "      <td>0</td>\n",
       "    </tr>\n",
       "    <tr>\n",
       "      <th>2</th>\n",
       "      <td>9055446045651783499.1640648526.1640648526</td>\n",
       "      <td>ZpYIoDJMcFzVoPFsHGJL</td>\n",
       "      <td>LEoPHuyFvzoNfnzGgfcd</td>\n",
       "      <td>mobile</td>\n",
       "      <td>Russia</td>\n",
       "      <td>Krasnoyarsk</td>\n",
       "      <td>12.0</td>\n",
       "      <td>other</td>\n",
       "      <td>ads</td>\n",
       "      <td>other</td>\n",
       "      <td>event</td>\n",
       "      <td>other</td>\n",
       "      <td>0</td>\n",
       "    </tr>\n",
       "    <tr>\n",
       "      <th>3</th>\n",
       "      <td>9055447046360770272.1622255328.1622255328</td>\n",
       "      <td>kjsLglQLzykiRbcDiGcD</td>\n",
       "      <td>(not set)</td>\n",
       "      <td>mobile</td>\n",
       "      <td>Russia</td>\n",
       "      <td>Moscow</td>\n",
       "      <td>5.0</td>\n",
       "      <td>capital</td>\n",
       "      <td>ads</td>\n",
       "      <td>other</td>\n",
       "      <td>event</td>\n",
       "      <td>other</td>\n",
       "      <td>0</td>\n",
       "    </tr>\n",
       "    <tr>\n",
       "      <th>4</th>\n",
       "      <td>9055447046360770272.1622255345.1622255345</td>\n",
       "      <td>kjsLglQLzykiRbcDiGcD</td>\n",
       "      <td>(not set)</td>\n",
       "      <td>mobile</td>\n",
       "      <td>Russia</td>\n",
       "      <td>Moscow</td>\n",
       "      <td>5.0</td>\n",
       "      <td>capital</td>\n",
       "      <td>ads</td>\n",
       "      <td>other</td>\n",
       "      <td>event</td>\n",
       "      <td>other</td>\n",
       "      <td>0</td>\n",
       "    </tr>\n",
       "  </tbody>\n",
       "</table>\n",
       "</div>"
      ],
      "text/plain": [
       "                                  session_id            utm_source  \\\n",
       "0  9055434745589932991.1637753792.1637753792  ZpYIoDJMcFzVoPFsHGJL   \n",
       "1   905544597018549464.1636867290.1636867290  MvfHsxITijuriZxsqZqt   \n",
       "2  9055446045651783499.1640648526.1640648526  ZpYIoDJMcFzVoPFsHGJL   \n",
       "3  9055447046360770272.1622255328.1622255328  kjsLglQLzykiRbcDiGcD   \n",
       "4  9055447046360770272.1622255345.1622255345  kjsLglQLzykiRbcDiGcD   \n",
       "\n",
       "           utm_campaign device_category geo_country     geo_city  visit_month  \\\n",
       "0  LEoPHuyFvzoNfnzGgfcd          mobile      Russia     Zlatoust         11.0   \n",
       "1  FTjNLDyTrXaWYgZymFkV          mobile      Russia       Moscow         11.0   \n",
       "2  LEoPHuyFvzoNfnzGgfcd          mobile      Russia  Krasnoyarsk         12.0   \n",
       "3             (not set)          mobile      Russia       Moscow          5.0   \n",
       "4             (not set)          mobile      Russia       Moscow          5.0   \n",
       "\n",
       "  geo_category trafic_type source_type hit_type  model  CR  \n",
       "0        other         ads       other    event  other   0  \n",
       "1      capital         ads      social    event  other   0  \n",
       "2        other         ads       other    event  other   0  \n",
       "3      capital         ads       other    event  other   0  \n",
       "4      capital         ads       other    event  other   0  "
      ]
     },
     "execution_count": 31,
     "metadata": {},
     "output_type": "execute_result"
    }
   ],
   "source": [
    "print(merged_data.shape)\n",
    "merged_data.head()"
   ]
  },
  {
   "cell_type": "markdown",
   "id": "9746ab6b-f9f2-49d8-8c3d-c43a8a33b499",
   "metadata": {},
   "source": [
    "**Посмотрим на коррелиции признаков**\n",
    "\n",
    "Для этого создам новые колонки с числовыми значениями для категориальных переменных"
   ]
  },
  {
   "cell_type": "code",
   "execution_count": 32,
   "id": "10a40c6f-f761-4254-adc9-0955f7585be2",
   "metadata": {},
   "outputs": [],
   "source": [
    "df = merged_data.copy()\n",
    "df['device_category_bin'] = df.device_category.apply(lambda x: 1 if x == 'mobile' else 0)\n",
    "df['geo_category_bin'] = df.geo_category.apply(lambda x: 1 if x == 'capital' else 0)\n",
    "df['trafic_type_bin'] = df.trafic_type.apply(lambda x: 1 if x == 'ads' else 0)\n",
    "df['source_type_bin'] = df.source_type.apply(lambda x: 1 if x == 'social' else 0)\n",
    "\n",
    "#bin_col = ['device_category_bin', 'geo_category_bin']"
   ]
  },
  {
   "cell_type": "code",
   "execution_count": 33,
   "id": "c4fc1f6b-6d77-49e1-985f-af13affdd14d",
   "metadata": {},
   "outputs": [
    {
     "data": {
      "text/plain": [
       "<AxesSubplot:>"
      ]
     },
     "execution_count": 33,
     "metadata": {},
     "output_type": "execute_result"
    },
    {
     "data": {
      "image/png": "[encoded data removed]",
      "text/plain": [
       "<Figure size 1008x864 with 2 Axes>"
      ]
     },
     "metadata": {
      "needs_background": "light"
     },
     "output_type": "display_data"
    }
   ],
   "source": [
    "fig, ax = plt.subplots(figsize=(14,12))\n",
    "sns.heatmap(df.corr(), annot=True, linecolor='white', linewidth=0.5,\n",
    "           annot_kws = {'size': 20}, vmax = 1, vmin = -1)"
   ]
  },
  {
   "cell_type": "markdown",
   "id": "ce5b49fe-0820-4773-93f3-a3b04292d7a4",
   "metadata": {},
   "source": [
    "Между признаками нет явных зависимостей"
   ]
  },
  {
   "cell_type": "markdown",
   "id": "0aa830af-9d44-4734-94e4-2a073ae20287",
   "metadata": {},
   "source": [
    "## 3. Проверка гипотез."
   ]
  },
  {
   "cell_type": "markdown",
   "id": "046ea9ec-1095-4d5a-9f78-526a2ebc3a65",
   "metadata": {},
   "source": [
    "### 0. Органический трафик не отличается от платного с точки зрения CR (Conversion Rate) в целевые события."
   ]
  },
  {
   "cell_type": "markdown",
   "id": "51ca3c27-43e6-4f69-888c-c7afcd147bf6",
   "metadata": {
    "tags": []
   },
   "source": [
    "#### Описание гипотез\n",
    "\n",
    "**Н0**: органический трафик не отличается от платного с точки зрения CR в целевые события\n",
    "\n",
    "**Н1**: органический и платный трафик отличаются с точки зрения CR в целевые события"
   ]
  },
  {
   "cell_type": "code",
   "execution_count": 34,
   "id": "2986cfdc-4057-4820-9d5e-53c133a35357",
   "metadata": {},
   "outputs": [
    {
     "data": {
      "text/html": [
       "<div>\n",
       "<style scoped>\n",
       "    .dataframe tbody tr th:only-of-type {\n",
       "        vertical-align: middle;\n",
       "    }\n",
       "\n",
       "    .dataframe tbody tr th {\n",
       "        vertical-align: top;\n",
       "    }\n",
       "\n",
       "    .dataframe thead th {\n",
       "        text-align: right;\n",
       "    }\n",
       "</style>\n",
       "<table border=\"1\" class=\"dataframe\">\n",
       "  <thead>\n",
       "    <tr style=\"text-align: right;\">\n",
       "      <th></th>\n",
       "      <th>visit_month</th>\n",
       "      <th>trafic_type</th>\n",
       "      <th>sessions</th>\n",
       "      <th>target_sessions</th>\n",
       "      <th>CR</th>\n",
       "    </tr>\n",
       "  </thead>\n",
       "  <tbody>\n",
       "    <tr>\n",
       "      <th>0</th>\n",
       "      <td>5.0</td>\n",
       "      <td>ads</td>\n",
       "      <td>27824</td>\n",
       "      <td>1745</td>\n",
       "      <td>6.271564</td>\n",
       "    </tr>\n",
       "    <tr>\n",
       "      <th>1</th>\n",
       "      <td>5.0</td>\n",
       "      <td>organic</td>\n",
       "      <td>63085</td>\n",
       "      <td>3673</td>\n",
       "      <td>5.822303</td>\n",
       "    </tr>\n",
       "    <tr>\n",
       "      <th>2</th>\n",
       "      <td>6.0</td>\n",
       "      <td>ads</td>\n",
       "      <td>96625</td>\n",
       "      <td>3475</td>\n",
       "      <td>3.596378</td>\n",
       "    </tr>\n",
       "    <tr>\n",
       "      <th>3</th>\n",
       "      <td>6.0</td>\n",
       "      <td>organic</td>\n",
       "      <td>43461</td>\n",
       "      <td>2076</td>\n",
       "      <td>4.776696</td>\n",
       "    </tr>\n",
       "    <tr>\n",
       "      <th>4</th>\n",
       "      <td>7.0</td>\n",
       "      <td>ads</td>\n",
       "      <td>126041</td>\n",
       "      <td>3089</td>\n",
       "      <td>2.450790</td>\n",
       "    </tr>\n",
       "    <tr>\n",
       "      <th>5</th>\n",
       "      <td>7.0</td>\n",
       "      <td>organic</td>\n",
       "      <td>29561</td>\n",
       "      <td>1026</td>\n",
       "      <td>3.470789</td>\n",
       "    </tr>\n",
       "    <tr>\n",
       "      <th>6</th>\n",
       "      <td>8.0</td>\n",
       "      <td>ads</td>\n",
       "      <td>108796</td>\n",
       "      <td>3629</td>\n",
       "      <td>3.335601</td>\n",
       "    </tr>\n",
       "    <tr>\n",
       "      <th>7</th>\n",
       "      <td>8.0</td>\n",
       "      <td>organic</td>\n",
       "      <td>29072</td>\n",
       "      <td>977</td>\n",
       "      <td>3.360622</td>\n",
       "    </tr>\n",
       "    <tr>\n",
       "      <th>8</th>\n",
       "      <td>9.0</td>\n",
       "      <td>ads</td>\n",
       "      <td>180682</td>\n",
       "      <td>4230</td>\n",
       "      <td>2.341130</td>\n",
       "    </tr>\n",
       "    <tr>\n",
       "      <th>9</th>\n",
       "      <td>9.0</td>\n",
       "      <td>organic</td>\n",
       "      <td>35814</td>\n",
       "      <td>819</td>\n",
       "      <td>2.286815</td>\n",
       "    </tr>\n",
       "    <tr>\n",
       "      <th>10</th>\n",
       "      <td>10.0</td>\n",
       "      <td>ads</td>\n",
       "      <td>208460</td>\n",
       "      <td>5178</td>\n",
       "      <td>2.483930</td>\n",
       "    </tr>\n",
       "    <tr>\n",
       "      <th>11</th>\n",
       "      <td>10.0</td>\n",
       "      <td>organic</td>\n",
       "      <td>27952</td>\n",
       "      <td>742</td>\n",
       "      <td>2.654551</td>\n",
       "    </tr>\n",
       "    <tr>\n",
       "      <th>12</th>\n",
       "      <td>11.0</td>\n",
       "      <td>ads</td>\n",
       "      <td>206926</td>\n",
       "      <td>4671</td>\n",
       "      <td>2.257329</td>\n",
       "    </tr>\n",
       "    <tr>\n",
       "      <th>13</th>\n",
       "      <td>11.0</td>\n",
       "      <td>organic</td>\n",
       "      <td>43578</td>\n",
       "      <td>785</td>\n",
       "      <td>1.801368</td>\n",
       "    </tr>\n",
       "    <tr>\n",
       "      <th>14</th>\n",
       "      <td>12.0</td>\n",
       "      <td>ads</td>\n",
       "      <td>301976</td>\n",
       "      <td>5606</td>\n",
       "      <td>1.856439</td>\n",
       "    </tr>\n",
       "    <tr>\n",
       "      <th>15</th>\n",
       "      <td>12.0</td>\n",
       "      <td>organic</td>\n",
       "      <td>33684</td>\n",
       "      <td>584</td>\n",
       "      <td>1.733761</td>\n",
       "    </tr>\n",
       "  </tbody>\n",
       "</table>\n",
       "</div>"
      ],
      "text/plain": [
       "    visit_month trafic_type  sessions  target_sessions        CR\n",
       "0           5.0         ads     27824             1745  6.271564\n",
       "1           5.0     organic     63085             3673  5.822303\n",
       "2           6.0         ads     96625             3475  3.596378\n",
       "3           6.0     organic     43461             2076  4.776696\n",
       "4           7.0         ads    126041             3089  2.450790\n",
       "5           7.0     organic     29561             1026  3.470789\n",
       "6           8.0         ads    108796             3629  3.335601\n",
       "7           8.0     organic     29072              977  3.360622\n",
       "8           9.0         ads    180682             4230  2.341130\n",
       "9           9.0     organic     35814              819  2.286815\n",
       "10         10.0         ads    208460             5178  2.483930\n",
       "11         10.0     organic     27952              742  2.654551\n",
       "12         11.0         ads    206926             4671  2.257329\n",
       "13         11.0     organic     43578              785  1.801368\n",
       "14         12.0         ads    301976             5606  1.856439\n",
       "15         12.0     organic     33684              584  1.733761"
      ]
     },
     "execution_count": 34,
     "metadata": {},
     "output_type": "execute_result"
    }
   ],
   "source": [
    "# группируем данные по типу трафика\n",
    "gr_trafic_type = merged_data.groupby(['visit_month', 'trafic_type'], as_index=False).agg(\n",
    "    sessions = pd.NamedAgg(column='session_id', aggfunc='count'),\n",
    "    target_sessions = pd.NamedAgg(column='hit_type', aggfunc=lambda x: x[x == 'target event'].value_counts()[0]),\n",
    "    CR = pd.NamedAgg(column='CR', aggfunc='mean'))\n",
    "\n",
    "gr_trafic_type"
   ]
  },
  {
   "cell_type": "code",
   "execution_count": 35,
   "id": "6b7edb21-8f95-4ea5-b8cb-c43c7c2fd95f",
   "metadata": {},
   "outputs": [
    {
     "data": {
      "text/plain": [
       "<AxesSubplot:xlabel='visit_month', ylabel='CR'>"
      ]
     },
     "execution_count": 35,
     "metadata": {},
     "output_type": "execute_result"
    },
    {
     "data": {
      "image/png": "[encoded data removed]",
      "text/plain": [
       "<Figure size 576x360 with 1 Axes>"
      ]
     },
     "metadata": {
      "needs_background": "light"
     },
     "output_type": "display_data"
    }
   ],
   "source": [
    "# посмотрим распределение на графике\n",
    "fig, ax = plt.subplots(figsize=(8,5))\n",
    "sns.set_theme(style=\"darkgrid\")\n",
    "sns.lineplot(data=gr_trafic_type, x='visit_month', y='CR',\n",
    "            hue='trafic_type',\n",
    "            alpha=0.8)"
   ]
  },
  {
   "cell_type": "markdown",
   "id": "10bce9e5-0df2-421b-8c79-f9c8afee9945",
   "metadata": {},
   "source": [
    "На графике не видно значительных различий, но посмотрим, что скажут тесты"
   ]
  },
  {
   "cell_type": "code",
   "execution_count": 36,
   "id": "bbb12e73-a6de-4d74-8bba-9cf7cfcecca6",
   "metadata": {},
   "outputs": [
    {
     "name": "stdout",
     "output_type": "stream",
     "text": [
      "p-value: 0.011902459897100925\n",
      "p-value: 0.37654364109039307\n"
     ]
    }
   ],
   "source": [
    "# проверим нормальность распределения тестом Шапиро-Уилка\n",
    "ads = gr_trafic_type[gr_trafic_type.trafic_type == 'ads'].CR\n",
    "organic = gr_trafic_type[gr_trafic_type.trafic_type == 'organic'].CR\n",
    "\n",
    "print('p-value:',stats.shapiro(ads)[1])\n",
    "print('p-value:',stats.shapiro(organic)[1])\n",
    "# в первом случае p-value < 0.05, значит мы не можем считать, что данные распределены нормально "
   ]
  },
  {
   "cell_type": "markdown",
   "id": "e3d3d1c6-d387-4e1c-8f87-7c4f179719f2",
   "metadata": {},
   "source": [
    "Т.к критерии распределены ненормально и они независимы друг от друга для проверки гипотезы используем тест Манна-Уитни"
   ]
  },
  {
   "cell_type": "code",
   "execution_count": 37,
   "id": "75b03e0a-b831-40c1-8f49-a8a29cfe7cba",
   "metadata": {},
   "outputs": [
    {
     "name": "stdout",
     "output_type": "stream",
     "text": [
      "p-value: 0.959129759129759\n",
      "Мы не можем отклонить нулевую гипотезу – органический трафик не отличается от платного с точки зрения CR в целевые события\n"
     ]
    }
   ],
   "source": [
    "mann = stats.mannwhitneyu(ads, organic)\n",
    "print('p-value:', mann[1])\n",
    "\n",
    "if mann[1] > alpha:\n",
    "    print('Мы не можем отклонить нулевую гипотезу – органический трафик не отличается от платного с точки зрения CR в целевые события')\n",
    "else:\n",
    "    print('Можем принять альтернативную гипотезу – органический и платный трафик отличаются с точки зрения CR в целевые события')"
   ]
  },
  {
   "cell_type": "markdown",
   "id": "d12bc5f7-3568-457a-91b0-9c6efe0251fe",
   "metadata": {},
   "source": [
    "### 1. Трафик с мобильных устройств не отличается от трафика с десктопных устройств с точки зрения CR (Conversion Rate)"
   ]
  },
  {
   "cell_type": "markdown",
   "id": "5911d407-8f53-45fd-a1a0-c955e833dca6",
   "metadata": {},
   "source": [
    "#### Описание гипотез\n",
    "\n",
    "**Н0**: трафик с мобильных устройств не отличается от трафика с десктопных устройств с точки зрения CR\n",
    "\n",
    "**Н1**: мобильный и десктопный трафик отличаются с точки зрения CR в целевые события"
   ]
  },
  {
   "cell_type": "code",
   "execution_count": 38,
   "id": "406981a9-6cc4-43f4-96e9-b3a359b57bdb",
   "metadata": {},
   "outputs": [
    {
     "data": {
      "text/html": [
       "<div>\n",
       "<style scoped>\n",
       "    .dataframe tbody tr th:only-of-type {\n",
       "        vertical-align: middle;\n",
       "    }\n",
       "\n",
       "    .dataframe tbody tr th {\n",
       "        vertical-align: top;\n",
       "    }\n",
       "\n",
       "    .dataframe thead th {\n",
       "        text-align: right;\n",
       "    }\n",
       "</style>\n",
       "<table border=\"1\" class=\"dataframe\">\n",
       "  <thead>\n",
       "    <tr style=\"text-align: right;\">\n",
       "      <th></th>\n",
       "      <th>visit_month</th>\n",
       "      <th>device_category</th>\n",
       "      <th>sessions</th>\n",
       "      <th>target_sessions</th>\n",
       "      <th>CR</th>\n",
       "    </tr>\n",
       "  </thead>\n",
       "  <tbody>\n",
       "    <tr>\n",
       "      <th>0</th>\n",
       "      <td>5.0</td>\n",
       "      <td>desktop</td>\n",
       "      <td>29415</td>\n",
       "      <td>2030</td>\n",
       "      <td>6.901241</td>\n",
       "    </tr>\n",
       "    <tr>\n",
       "      <th>1</th>\n",
       "      <td>5.0</td>\n",
       "      <td>mobile</td>\n",
       "      <td>61494</td>\n",
       "      <td>3388</td>\n",
       "      <td>5.509481</td>\n",
       "    </tr>\n",
       "    <tr>\n",
       "      <th>2</th>\n",
       "      <td>6.0</td>\n",
       "      <td>desktop</td>\n",
       "      <td>24173</td>\n",
       "      <td>1509</td>\n",
       "      <td>6.242502</td>\n",
       "    </tr>\n",
       "    <tr>\n",
       "      <th>3</th>\n",
       "      <td>6.0</td>\n",
       "      <td>mobile</td>\n",
       "      <td>115913</td>\n",
       "      <td>4042</td>\n",
       "      <td>3.487098</td>\n",
       "    </tr>\n",
       "    <tr>\n",
       "      <th>4</th>\n",
       "      <td>7.0</td>\n",
       "      <td>desktop</td>\n",
       "      <td>51102</td>\n",
       "      <td>1107</td>\n",
       "      <td>2.166256</td>\n",
       "    </tr>\n",
       "    <tr>\n",
       "      <th>5</th>\n",
       "      <td>7.0</td>\n",
       "      <td>mobile</td>\n",
       "      <td>104500</td>\n",
       "      <td>3008</td>\n",
       "      <td>2.878469</td>\n",
       "    </tr>\n",
       "    <tr>\n",
       "      <th>6</th>\n",
       "      <td>8.0</td>\n",
       "      <td>desktop</td>\n",
       "      <td>33381</td>\n",
       "      <td>1140</td>\n",
       "      <td>3.415116</td>\n",
       "    </tr>\n",
       "    <tr>\n",
       "      <th>7</th>\n",
       "      <td>8.0</td>\n",
       "      <td>mobile</td>\n",
       "      <td>104487</td>\n",
       "      <td>3466</td>\n",
       "      <td>3.317159</td>\n",
       "    </tr>\n",
       "    <tr>\n",
       "      <th>8</th>\n",
       "      <td>9.0</td>\n",
       "      <td>desktop</td>\n",
       "      <td>48194</td>\n",
       "      <td>1170</td>\n",
       "      <td>2.427688</td>\n",
       "    </tr>\n",
       "    <tr>\n",
       "      <th>9</th>\n",
       "      <td>9.0</td>\n",
       "      <td>mobile</td>\n",
       "      <td>168302</td>\n",
       "      <td>3879</td>\n",
       "      <td>2.304785</td>\n",
       "    </tr>\n",
       "    <tr>\n",
       "      <th>10</th>\n",
       "      <td>10.0</td>\n",
       "      <td>desktop</td>\n",
       "      <td>36158</td>\n",
       "      <td>956</td>\n",
       "      <td>2.643952</td>\n",
       "    </tr>\n",
       "    <tr>\n",
       "      <th>11</th>\n",
       "      <td>10.0</td>\n",
       "      <td>mobile</td>\n",
       "      <td>200254</td>\n",
       "      <td>4964</td>\n",
       "      <td>2.478852</td>\n",
       "    </tr>\n",
       "    <tr>\n",
       "      <th>12</th>\n",
       "      <td>11.0</td>\n",
       "      <td>desktop</td>\n",
       "      <td>44761</td>\n",
       "      <td>1056</td>\n",
       "      <td>2.359197</td>\n",
       "    </tr>\n",
       "    <tr>\n",
       "      <th>13</th>\n",
       "      <td>11.0</td>\n",
       "      <td>mobile</td>\n",
       "      <td>205743</td>\n",
       "      <td>4400</td>\n",
       "      <td>2.138590</td>\n",
       "    </tr>\n",
       "    <tr>\n",
       "      <th>14</th>\n",
       "      <td>12.0</td>\n",
       "      <td>desktop</td>\n",
       "      <td>41710</td>\n",
       "      <td>758</td>\n",
       "      <td>1.817310</td>\n",
       "    </tr>\n",
       "    <tr>\n",
       "      <th>15</th>\n",
       "      <td>12.0</td>\n",
       "      <td>mobile</td>\n",
       "      <td>293950</td>\n",
       "      <td>5432</td>\n",
       "      <td>1.847933</td>\n",
       "    </tr>\n",
       "  </tbody>\n",
       "</table>\n",
       "</div>"
      ],
      "text/plain": [
       "    visit_month device_category  sessions  target_sessions        CR\n",
       "0           5.0         desktop     29415             2030  6.901241\n",
       "1           5.0          mobile     61494             3388  5.509481\n",
       "2           6.0         desktop     24173             1509  6.242502\n",
       "3           6.0          mobile    115913             4042  3.487098\n",
       "4           7.0         desktop     51102             1107  2.166256\n",
       "5           7.0          mobile    104500             3008  2.878469\n",
       "6           8.0         desktop     33381             1140  3.415116\n",
       "7           8.0          mobile    104487             3466  3.317159\n",
       "8           9.0         desktop     48194             1170  2.427688\n",
       "9           9.0          mobile    168302             3879  2.304785\n",
       "10         10.0         desktop     36158              956  2.643952\n",
       "11         10.0          mobile    200254             4964  2.478852\n",
       "12         11.0         desktop     44761             1056  2.359197\n",
       "13         11.0          mobile    205743             4400  2.138590\n",
       "14         12.0         desktop     41710              758  1.817310\n",
       "15         12.0          mobile    293950             5432  1.847933"
      ]
     },
     "execution_count": 38,
     "metadata": {},
     "output_type": "execute_result"
    }
   ],
   "source": [
    "# группируем данные по типу девайса\n",
    "gr_device_category = merged_data.groupby(['visit_month', 'device_category'], as_index=False).agg(\n",
    "    sessions = pd.NamedAgg(column='session_id', aggfunc='count'),\n",
    "    target_sessions = pd.NamedAgg(column='hit_type', aggfunc=lambda x: x[x == 'target event'].value_counts()[0]),\n",
    "    CR = pd.NamedAgg(column='CR', aggfunc='mean'))\n",
    "\n",
    "gr_device_category"
   ]
  },
  {
   "cell_type": "code",
   "execution_count": 39,
   "id": "8a62c712-8f23-4308-a5a8-f9714d254711",
   "metadata": {},
   "outputs": [
    {
     "data": {
      "text/plain": [
       "<AxesSubplot:xlabel='visit_month', ylabel='CR'>"
      ]
     },
     "execution_count": 39,
     "metadata": {},
     "output_type": "execute_result"
    },
    {
     "data": {
      "image/png": "[encoded data removed]",
      "text/plain": [
       "<Figure size 576x360 with 1 Axes>"
      ]
     },
     "metadata": {},
     "output_type": "display_data"
    }
   ],
   "source": [
    "# посмотрим распределение на графике\n",
    "fig, ax = plt.subplots(figsize=(8,5))\n",
    "sns.set_theme(style=\"darkgrid\")\n",
    "sns.lineplot(data=gr_device_category, x='visit_month', y='CR',\n",
    "            hue='device_category',\n",
    "            alpha=0.8)"
   ]
  },
  {
   "cell_type": "markdown",
   "id": "7b3850cb-bb70-4289-aba3-cd712ffce235",
   "metadata": {},
   "source": [
    "На графике так же не видно существенных различий"
   ]
  },
  {
   "cell_type": "code",
   "execution_count": 40,
   "id": "bacc8691-4294-435e-92ee-be1e9a2c64bd",
   "metadata": {
    "tags": []
   },
   "outputs": [
    {
     "name": "stdout",
     "output_type": "stream",
     "text": [
      "p-value: 0.100823312997818\n",
      "p-value: 0.015027576126158237\n"
     ]
    }
   ],
   "source": [
    "# проверим нормальность распределения тестом Шапиро-Уилка\n",
    "mobile = gr_device_category[gr_device_category.device_category == 'mobile'].CR\n",
    "desktop = gr_device_category[gr_device_category.device_category == 'desktop'].CR\n",
    "\n",
    "print('p-value:',stats.shapiro(mobile)[1])\n",
    "print('p-value:',stats.shapiro(desktop)[1])\n",
    "# во втором случае p-value < 0.05, значит мы не можем считать, что данные распределены нормально "
   ]
  },
  {
   "cell_type": "markdown",
   "id": "eda84a84-a625-443e-849a-51cb189bcf68",
   "metadata": {},
   "source": [
    "Критерии распределены ненормально, они независимы друг от друга – для проверки гипотезы снова используем тест Манна-Уитни"
   ]
  },
  {
   "cell_type": "code",
   "execution_count": 41,
   "id": "4930b859-44c4-4d9b-996b-85228976bfd5",
   "metadata": {
    "tags": []
   },
   "outputs": [
    {
     "name": "stdout",
     "output_type": "stream",
     "text": [
      "p-value: 0.8784770784770783\n",
      "Мы не можем отклонить нулевую гипотезу – трафик с мобильных устройств не отличается от трафика с десктопных устройств с точки зрения CR\n"
     ]
    }
   ],
   "source": [
    "mann = stats.mannwhitneyu(mobile, desktop)\n",
    "print('p-value:', mann[1])\n",
    "\n",
    "if mann[1] > alpha:\n",
    "    print('Мы не можем отклонить нулевую гипотезу – трафик с мобильных устройств не отличается от трафика с десктопных устройств с точки зрения CR')\n",
    "else:\n",
    "    print('Можем принять альтернативную гипотезу – мобильный и десктопный трафик отличаются с точки зрения CR в целевые события')"
   ]
  },
  {
   "cell_type": "markdown",
   "id": "910fe9ed-5ea6-47c3-ac52-ab234818b88f",
   "metadata": {
    "tags": []
   },
   "source": [
    "### 2. Трафик из городов присутствия (Москва и область, Санкт-Петербург) не отличается от трафика из иных регионов с точки зрения CR в целевые события."
   ]
  },
  {
   "cell_type": "markdown",
   "id": "5c4e8661-37f3-42d9-8421-034324fdae0a",
   "metadata": {},
   "source": [
    "#### Описание гипотез\n",
    "\n",
    "**Н0**: трафик из городов присутствия (Москва и область, Санкт-Петербург) не отличается от трафика из иных регионов с точки зрения CR в целевые события\n",
    "\n",
    "**Н1**: трафик из столиц и регионов отличаются с точки зрения CR в целевые события"
   ]
  },
  {
   "cell_type": "code",
   "execution_count": 42,
   "id": "8deea516-7edf-4723-9c6e-5563cf6d6efe",
   "metadata": {},
   "outputs": [
    {
     "data": {
      "text/html": [
       "<div>\n",
       "<style scoped>\n",
       "    .dataframe tbody tr th:only-of-type {\n",
       "        vertical-align: middle;\n",
       "    }\n",
       "\n",
       "    .dataframe tbody tr th {\n",
       "        vertical-align: top;\n",
       "    }\n",
       "\n",
       "    .dataframe thead th {\n",
       "        text-align: right;\n",
       "    }\n",
       "</style>\n",
       "<table border=\"1\" class=\"dataframe\">\n",
       "  <thead>\n",
       "    <tr style=\"text-align: right;\">\n",
       "      <th></th>\n",
       "      <th>visit_month</th>\n",
       "      <th>geo_category</th>\n",
       "      <th>sessions</th>\n",
       "      <th>target_sessions</th>\n",
       "      <th>CR</th>\n",
       "    </tr>\n",
       "  </thead>\n",
       "  <tbody>\n",
       "    <tr>\n",
       "      <th>0</th>\n",
       "      <td>5.0</td>\n",
       "      <td>capital</td>\n",
       "      <td>64882</td>\n",
       "      <td>3831</td>\n",
       "      <td>5.904565</td>\n",
       "    </tr>\n",
       "    <tr>\n",
       "      <th>1</th>\n",
       "      <td>5.0</td>\n",
       "      <td>other</td>\n",
       "      <td>26027</td>\n",
       "      <td>1587</td>\n",
       "      <td>6.097514</td>\n",
       "    </tr>\n",
       "    <tr>\n",
       "      <th>2</th>\n",
       "      <td>6.0</td>\n",
       "      <td>capital</td>\n",
       "      <td>99321</td>\n",
       "      <td>3960</td>\n",
       "      <td>3.987072</td>\n",
       "    </tr>\n",
       "    <tr>\n",
       "      <th>3</th>\n",
       "      <td>6.0</td>\n",
       "      <td>other</td>\n",
       "      <td>40765</td>\n",
       "      <td>1591</td>\n",
       "      <td>3.902858</td>\n",
       "    </tr>\n",
       "    <tr>\n",
       "      <th>4</th>\n",
       "      <td>7.0</td>\n",
       "      <td>capital</td>\n",
       "      <td>109984</td>\n",
       "      <td>3151</td>\n",
       "      <td>2.864962</td>\n",
       "    </tr>\n",
       "    <tr>\n",
       "      <th>5</th>\n",
       "      <td>7.0</td>\n",
       "      <td>other</td>\n",
       "      <td>45618</td>\n",
       "      <td>964</td>\n",
       "      <td>2.113201</td>\n",
       "    </tr>\n",
       "    <tr>\n",
       "      <th>6</th>\n",
       "      <td>8.0</td>\n",
       "      <td>capital</td>\n",
       "      <td>105794</td>\n",
       "      <td>3458</td>\n",
       "      <td>3.268616</td>\n",
       "    </tr>\n",
       "    <tr>\n",
       "      <th>7</th>\n",
       "      <td>8.0</td>\n",
       "      <td>other</td>\n",
       "      <td>32074</td>\n",
       "      <td>1148</td>\n",
       "      <td>3.579223</td>\n",
       "    </tr>\n",
       "    <tr>\n",
       "      <th>8</th>\n",
       "      <td>9.0</td>\n",
       "      <td>capital</td>\n",
       "      <td>159154</td>\n",
       "      <td>3686</td>\n",
       "      <td>2.315996</td>\n",
       "    </tr>\n",
       "    <tr>\n",
       "      <th>9</th>\n",
       "      <td>9.0</td>\n",
       "      <td>other</td>\n",
       "      <td>57342</td>\n",
       "      <td>1363</td>\n",
       "      <td>2.376966</td>\n",
       "    </tr>\n",
       "    <tr>\n",
       "      <th>10</th>\n",
       "      <td>10.0</td>\n",
       "      <td>capital</td>\n",
       "      <td>136178</td>\n",
       "      <td>3417</td>\n",
       "      <td>2.509216</td>\n",
       "    </tr>\n",
       "    <tr>\n",
       "      <th>11</th>\n",
       "      <td>10.0</td>\n",
       "      <td>other</td>\n",
       "      <td>100234</td>\n",
       "      <td>2503</td>\n",
       "      <td>2.497157</td>\n",
       "    </tr>\n",
       "    <tr>\n",
       "      <th>12</th>\n",
       "      <td>11.0</td>\n",
       "      <td>capital</td>\n",
       "      <td>162573</td>\n",
       "      <td>3462</td>\n",
       "      <td>2.129505</td>\n",
       "    </tr>\n",
       "    <tr>\n",
       "      <th>13</th>\n",
       "      <td>11.0</td>\n",
       "      <td>other</td>\n",
       "      <td>87931</td>\n",
       "      <td>1994</td>\n",
       "      <td>2.267687</td>\n",
       "    </tr>\n",
       "    <tr>\n",
       "      <th>14</th>\n",
       "      <td>12.0</td>\n",
       "      <td>capital</td>\n",
       "      <td>192715</td>\n",
       "      <td>3820</td>\n",
       "      <td>1.982202</td>\n",
       "    </tr>\n",
       "    <tr>\n",
       "      <th>15</th>\n",
       "      <td>12.0</td>\n",
       "      <td>other</td>\n",
       "      <td>142945</td>\n",
       "      <td>2370</td>\n",
       "      <td>1.657980</td>\n",
       "    </tr>\n",
       "  </tbody>\n",
       "</table>\n",
       "</div>"
      ],
      "text/plain": [
       "    visit_month geo_category  sessions  target_sessions        CR\n",
       "0           5.0      capital     64882             3831  5.904565\n",
       "1           5.0        other     26027             1587  6.097514\n",
       "2           6.0      capital     99321             3960  3.987072\n",
       "3           6.0        other     40765             1591  3.902858\n",
       "4           7.0      capital    109984             3151  2.864962\n",
       "5           7.0        other     45618              964  2.113201\n",
       "6           8.0      capital    105794             3458  3.268616\n",
       "7           8.0        other     32074             1148  3.579223\n",
       "8           9.0      capital    159154             3686  2.315996\n",
       "9           9.0        other     57342             1363  2.376966\n",
       "10         10.0      capital    136178             3417  2.509216\n",
       "11         10.0        other    100234             2503  2.497157\n",
       "12         11.0      capital    162573             3462  2.129505\n",
       "13         11.0        other     87931             1994  2.267687\n",
       "14         12.0      capital    192715             3820  1.982202\n",
       "15         12.0        other    142945             2370  1.657980"
      ]
     },
     "execution_count": 42,
     "metadata": {},
     "output_type": "execute_result"
    }
   ],
   "source": [
    "# группируем данные по типу гео\n",
    "gr_geo_category = merged_data.groupby(['visit_month', 'geo_category'], as_index=False).agg(\n",
    "    sessions = pd.NamedAgg(column='session_id', aggfunc='count'),\n",
    "    target_sessions = pd.NamedAgg(column='hit_type', aggfunc=lambda x: x[x == 'target event'].value_counts()[0]),\n",
    "    CR = pd.NamedAgg(column='CR', aggfunc='mean'))\n",
    "\n",
    "gr_geo_category"
   ]
  },
  {
   "cell_type": "code",
   "execution_count": 43,
   "id": "5b3c85ee-6ac0-4e85-a2c4-448c483757c5",
   "metadata": {},
   "outputs": [
    {
     "data": {
      "text/plain": [
       "<AxesSubplot:xlabel='visit_month', ylabel='CR'>"
      ]
     },
     "execution_count": 43,
     "metadata": {},
     "output_type": "execute_result"
    },
    {
     "data": {
      "image/png": "[encoded data removed]",
      "text/plain": [
       "<Figure size 576x360 with 1 Axes>"
      ]
     },
     "metadata": {},
     "output_type": "display_data"
    }
   ],
   "source": [
    "# посмотрим распределение на графике\n",
    "fig, ax = plt.subplots(figsize=(8,5))\n",
    "sns.set_theme(style=\"darkgrid\")\n",
    "sns.lineplot(data=gr_geo_category, x='visit_month', y='CR',\n",
    "            hue='geo_category',\n",
    "            alpha=0.8)"
   ]
  },
  {
   "cell_type": "code",
   "execution_count": 44,
   "id": "42a72347-a1e6-4889-804e-8f797d6c1a2b",
   "metadata": {},
   "outputs": [
    {
     "name": "stdout",
     "output_type": "stream",
     "text": [
      "p-value: 0.06450004875659943\n",
      "p-value: 0.07633935660123825\n"
     ]
    }
   ],
   "source": [
    "# проверим нормальность распределения тестом Шапиро-Уилка\n",
    "capital = gr_geo_category[gr_geo_category.geo_category == 'capital'].CR\n",
    "other = gr_geo_category[gr_geo_category.geo_category == 'other'].CR\n",
    "\n",
    "print('p-value:',stats.shapiro(capital)[1])\n",
    "print('p-value:',stats.shapiro(other)[1])\n",
    "# в обоих случаях p-value > 0.05, значит мы можем считать, что данные распределены нормально"
   ]
  },
  {
   "cell_type": "code",
   "execution_count": 45,
   "id": "3a6baebb-4bdf-412f-aa71-8581882d5af0",
   "metadata": {},
   "outputs": [
    {
     "data": {
      "text/plain": [
       "0.8995716602715471"
      ]
     },
     "execution_count": 45,
     "metadata": {},
     "output_type": "execute_result"
    }
   ],
   "source": [
    "# т.к распределение нормальное проверим равенство дисперсий, чтобы выбрать подходящий тест для проверки гипотез\n",
    "stats.levene(capital, other)[1]\n",
    "# p-value > 0.05 – дисперсии равны"
   ]
  },
  {
   "cell_type": "markdown",
   "id": "c99abfca-f722-4f7d-91c7-efeb5d7a2743",
   "metadata": {},
   "source": [
    "Дисперсии оказались равны – для проверки гипотез используем Т-критерий Стьюдента"
   ]
  },
  {
   "cell_type": "code",
   "execution_count": 46,
   "id": "b4c310b8-16bc-41d5-917b-51e3700e0f73",
   "metadata": {},
   "outputs": [
    {
     "name": "stdout",
     "output_type": "stream",
     "text": [
      "p-value: 0.9330464757496735\n",
      "Мы не можем отклонить нулевую гипотезу – трафик с мобильных устройств не отличается от трафика с десктопных устройств с точки зрения CR\n"
     ]
    }
   ],
   "source": [
    "ttest = stats.ttest_ind(capital, other)\n",
    "print('p-value:', ttest[1])\n",
    "\n",
    "if ttest[1] > alpha:\n",
    "    print('Мы не можем отклонить нулевую гипотезу – трафик с мобильных устройств не отличается от трафика с десктопных устройств с точки зрения CR')\n",
    "else:\n",
    "    print('Можем принять альтернативную гипотезу – мобильный и десктопный трафик отличаются с точки зрения CR в целевые события')"
   ]
  },
  {
   "cell_type": "markdown",
   "id": "80db4681-7fef-42b9-a399-eb7c53857c17",
   "metadata": {},
   "source": [
    "## 4. Ответы на вопросы продуктовой команды."
   ]
  },
  {
   "cell_type": "markdown",
   "id": "8ef9d75e-a55d-4eec-b3ac-d002aadb6f8a",
   "metadata": {
    "tags": []
   },
   "source": [
    "### 0. Из каких источников / кампаний / устройств / локаций к нам идёт самый целевой трафик (и с точки зрения объёма трафика, и с точки зрения CR)?"
   ]
  },
  {
   "cell_type": "code",
   "execution_count": 47,
   "id": "fe3830af-0656-4713-ba72-71d349a2c3fd",
   "metadata": {},
   "outputs": [
    {
     "data": {
      "text/html": [
       "<div>\n",
       "<style scoped>\n",
       "    .dataframe tbody tr th:only-of-type {\n",
       "        vertical-align: middle;\n",
       "    }\n",
       "\n",
       "    .dataframe tbody tr th {\n",
       "        vertical-align: top;\n",
       "    }\n",
       "\n",
       "    .dataframe thead th {\n",
       "        text-align: right;\n",
       "    }\n",
       "</style>\n",
       "<table border=\"1\" class=\"dataframe\">\n",
       "  <thead>\n",
       "    <tr style=\"text-align: right;\">\n",
       "      <th></th>\n",
       "      <th>session_id</th>\n",
       "      <th>utm_source</th>\n",
       "      <th>utm_campaign</th>\n",
       "      <th>device_category</th>\n",
       "      <th>geo_country</th>\n",
       "      <th>geo_city</th>\n",
       "      <th>visit_month</th>\n",
       "      <th>geo_category</th>\n",
       "      <th>trafic_type</th>\n",
       "      <th>source_type</th>\n",
       "      <th>hit_type</th>\n",
       "      <th>model</th>\n",
       "      <th>CR</th>\n",
       "    </tr>\n",
       "  </thead>\n",
       "  <tbody>\n",
       "    <tr>\n",
       "      <th>0</th>\n",
       "      <td>9055434745589932991.1637753792.1637753792</td>\n",
       "      <td>ZpYIoDJMcFzVoPFsHGJL</td>\n",
       "      <td>LEoPHuyFvzoNfnzGgfcd</td>\n",
       "      <td>mobile</td>\n",
       "      <td>Russia</td>\n",
       "      <td>Zlatoust</td>\n",
       "      <td>11.0</td>\n",
       "      <td>other</td>\n",
       "      <td>ads</td>\n",
       "      <td>other</td>\n",
       "      <td>event</td>\n",
       "      <td>other</td>\n",
       "      <td>0</td>\n",
       "    </tr>\n",
       "    <tr>\n",
       "      <th>1</th>\n",
       "      <td>905544597018549464.1636867290.1636867290</td>\n",
       "      <td>MvfHsxITijuriZxsqZqt</td>\n",
       "      <td>FTjNLDyTrXaWYgZymFkV</td>\n",
       "      <td>mobile</td>\n",
       "      <td>Russia</td>\n",
       "      <td>Moscow</td>\n",
       "      <td>11.0</td>\n",
       "      <td>capital</td>\n",
       "      <td>ads</td>\n",
       "      <td>social</td>\n",
       "      <td>event</td>\n",
       "      <td>other</td>\n",
       "      <td>0</td>\n",
       "    </tr>\n",
       "    <tr>\n",
       "      <th>2</th>\n",
       "      <td>9055446045651783499.1640648526.1640648526</td>\n",
       "      <td>ZpYIoDJMcFzVoPFsHGJL</td>\n",
       "      <td>LEoPHuyFvzoNfnzGgfcd</td>\n",
       "      <td>mobile</td>\n",
       "      <td>Russia</td>\n",
       "      <td>Krasnoyarsk</td>\n",
       "      <td>12.0</td>\n",
       "      <td>other</td>\n",
       "      <td>ads</td>\n",
       "      <td>other</td>\n",
       "      <td>event</td>\n",
       "      <td>other</td>\n",
       "      <td>0</td>\n",
       "    </tr>\n",
       "    <tr>\n",
       "      <th>3</th>\n",
       "      <td>9055447046360770272.1622255328.1622255328</td>\n",
       "      <td>kjsLglQLzykiRbcDiGcD</td>\n",
       "      <td>(not set)</td>\n",
       "      <td>mobile</td>\n",
       "      <td>Russia</td>\n",
       "      <td>Moscow</td>\n",
       "      <td>5.0</td>\n",
       "      <td>capital</td>\n",
       "      <td>ads</td>\n",
       "      <td>other</td>\n",
       "      <td>event</td>\n",
       "      <td>other</td>\n",
       "      <td>0</td>\n",
       "    </tr>\n",
       "    <tr>\n",
       "      <th>4</th>\n",
       "      <td>9055447046360770272.1622255345.1622255345</td>\n",
       "      <td>kjsLglQLzykiRbcDiGcD</td>\n",
       "      <td>(not set)</td>\n",
       "      <td>mobile</td>\n",
       "      <td>Russia</td>\n",
       "      <td>Moscow</td>\n",
       "      <td>5.0</td>\n",
       "      <td>capital</td>\n",
       "      <td>ads</td>\n",
       "      <td>other</td>\n",
       "      <td>event</td>\n",
       "      <td>other</td>\n",
       "      <td>0</td>\n",
       "    </tr>\n",
       "  </tbody>\n",
       "</table>\n",
       "</div>"
      ],
      "text/plain": [
       "                                  session_id            utm_source  \\\n",
       "0  9055434745589932991.1637753792.1637753792  ZpYIoDJMcFzVoPFsHGJL   \n",
       "1   905544597018549464.1636867290.1636867290  MvfHsxITijuriZxsqZqt   \n",
       "2  9055446045651783499.1640648526.1640648526  ZpYIoDJMcFzVoPFsHGJL   \n",
       "3  9055447046360770272.1622255328.1622255328  kjsLglQLzykiRbcDiGcD   \n",
       "4  9055447046360770272.1622255345.1622255345  kjsLglQLzykiRbcDiGcD   \n",
       "\n",
       "           utm_campaign device_category geo_country     geo_city  visit_month  \\\n",
       "0  LEoPHuyFvzoNfnzGgfcd          mobile      Russia     Zlatoust         11.0   \n",
       "1  FTjNLDyTrXaWYgZymFkV          mobile      Russia       Moscow         11.0   \n",
       "2  LEoPHuyFvzoNfnzGgfcd          mobile      Russia  Krasnoyarsk         12.0   \n",
       "3             (not set)          mobile      Russia       Moscow          5.0   \n",
       "4             (not set)          mobile      Russia       Moscow          5.0   \n",
       "\n",
       "  geo_category trafic_type source_type hit_type  model  CR  \n",
       "0        other         ads       other    event  other   0  \n",
       "1      capital         ads      social    event  other   0  \n",
       "2        other         ads       other    event  other   0  \n",
       "3      capital         ads       other    event  other   0  \n",
       "4      capital         ads       other    event  other   0  "
      ]
     },
     "execution_count": 47,
     "metadata": {},
     "output_type": "execute_result"
    }
   ],
   "source": [
    "merged_data.head()"
   ]
  },
  {
   "cell_type": "markdown",
   "id": "f478f760-bcc2-44cf-bf1a-af3a81bfb0b3",
   "metadata": {},
   "source": [
    "#### Начнём с определения наиболее успешных источников трафика"
   ]
  },
  {
   "cell_type": "markdown",
   "id": "fbee5b34-6997-4f2c-9161-1a3c1f08be48",
   "metadata": {},
   "source": [
    "Для определения лучших источников по CR я исключила данные в которых было менее ≈6300 посещений, т.к они не отражают реальной картины и могут привести к ошибочным выводам. Значение 6300 – это среднее кол-во сессий с utm_source. В ответах на следующие вопросы также буду исключать значения ниже средних"
   ]
  },
  {
   "cell_type": "code",
   "execution_count": 48,
   "id": "d8a37853-d0f9-4898-b106-b3539a858b1b",
   "metadata": {},
   "outputs": [
    {
     "name": "stdout",
     "output_type": "stream",
     "text": [
      "Среднее кол-во сессий с utm_source: 5624\n"
     ]
    }
   ],
   "source": [
    "# группируем данные по utm_source и определяем топ-5 источников \n",
    "gr_utm_source = merged_data.groupby(['utm_source'], as_index=False).agg(\n",
    "    sessions = pd.NamedAgg(column='session_id', aggfunc='count'),\n",
    "    target_sessions = pd.NamedAgg(column='hit_type', aggfunc=lambda x: x[x == 'target event'].value_counts()[0] if len(x[x == 'target event'].value_counts()) > 0 else 0),\n",
    "    CR = pd.NamedAgg(column='CR', aggfunc='mean'))\n",
    "\n",
    "mean_sessions = gr_utm_source.sessions.mean()\n",
    "print('Среднее кол-во сессий с utm_source:', round(mean_sessions))\n",
    "  \n",
    "target_utm_source = gr_utm_source.sort_values('target_sessions', ascending=False).head()\n",
    "cr_utm_source = gr_utm_source[gr_utm_source.sessions > mean_sessions].sort_values('CR', ascending=False).head()"
   ]
  },
  {
   "cell_type": "code",
   "execution_count": 49,
   "id": "29215d80-830a-46a8-bd40-5fb56c8c3bb7",
   "metadata": {},
   "outputs": [
    {
     "data": {
      "text/html": [
       "<div>\n",
       "<style scoped>\n",
       "    .dataframe tbody tr th:only-of-type {\n",
       "        vertical-align: middle;\n",
       "    }\n",
       "\n",
       "    .dataframe tbody tr th {\n",
       "        vertical-align: top;\n",
       "    }\n",
       "\n",
       "    .dataframe thead th {\n",
       "        text-align: right;\n",
       "    }\n",
       "</style>\n",
       "<table border=\"1\" class=\"dataframe\">\n",
       "  <thead>\n",
       "    <tr style=\"text-align: right;\">\n",
       "      <th></th>\n",
       "      <th>utm_source</th>\n",
       "      <th>sessions</th>\n",
       "      <th>target_sessions</th>\n",
       "      <th>CR</th>\n",
       "    </tr>\n",
       "  </thead>\n",
       "  <tbody>\n",
       "    <tr>\n",
       "      <th>146</th>\n",
       "      <td>ZpYIoDJMcFzVoPFsHGJL</td>\n",
       "      <td>485489</td>\n",
       "      <td>13360</td>\n",
       "      <td>2.751865</td>\n",
       "    </tr>\n",
       "    <tr>\n",
       "      <th>175</th>\n",
       "      <td>fDLlAcSmythWSCVMvqvL</td>\n",
       "      <td>253135</td>\n",
       "      <td>8928</td>\n",
       "      <td>3.526972</td>\n",
       "    </tr>\n",
       "    <tr>\n",
       "      <th>206</th>\n",
       "      <td>kjsLglQLzykiRbcDiGcD</td>\n",
       "      <td>223527</td>\n",
       "      <td>5289</td>\n",
       "      <td>2.366157</td>\n",
       "    </tr>\n",
       "    <tr>\n",
       "      <th>154</th>\n",
       "      <td>bByPQxmDaMXgpHeypKSM</td>\n",
       "      <td>86040</td>\n",
       "      <td>4676</td>\n",
       "      <td>5.434682</td>\n",
       "    </tr>\n",
       "    <tr>\n",
       "      <th>6</th>\n",
       "      <td>BHcvLfOaCWvWTykYqHVe</td>\n",
       "      <td>97625</td>\n",
       "      <td>3278</td>\n",
       "      <td>3.357746</td>\n",
       "    </tr>\n",
       "  </tbody>\n",
       "</table>\n",
       "</div>"
      ],
      "text/plain": [
       "               utm_source  sessions  target_sessions        CR\n",
       "146  ZpYIoDJMcFzVoPFsHGJL    485489            13360  2.751865\n",
       "175  fDLlAcSmythWSCVMvqvL    253135             8928  3.526972\n",
       "206  kjsLglQLzykiRbcDiGcD    223527             5289  2.366157\n",
       "154  bByPQxmDaMXgpHeypKSM     86040             4676  5.434682\n",
       "6    BHcvLfOaCWvWTykYqHVe     97625             3278  3.357746"
      ]
     },
     "execution_count": 49,
     "metadata": {},
     "output_type": "execute_result"
    }
   ],
   "source": [
    "# топ-5 по объёму целевого трафика\n",
    "target_utm_source"
   ]
  },
  {
   "cell_type": "code",
   "execution_count": 50,
   "id": "f76e1394-f068-4ae2-aa1b-41121f4e73eb",
   "metadata": {
    "tags": []
   },
   "outputs": [
    {
     "data": {
      "text/html": [
       "<div>\n",
       "<style scoped>\n",
       "    .dataframe tbody tr th:only-of-type {\n",
       "        vertical-align: middle;\n",
       "    }\n",
       "\n",
       "    .dataframe tbody tr th {\n",
       "        vertical-align: top;\n",
       "    }\n",
       "\n",
       "    .dataframe thead th {\n",
       "        text-align: right;\n",
       "    }\n",
       "</style>\n",
       "<table border=\"1\" class=\"dataframe\">\n",
       "  <thead>\n",
       "    <tr style=\"text-align: right;\">\n",
       "      <th></th>\n",
       "      <th>utm_source</th>\n",
       "      <th>sessions</th>\n",
       "      <th>target_sessions</th>\n",
       "      <th>CR</th>\n",
       "    </tr>\n",
       "  </thead>\n",
       "  <tbody>\n",
       "    <tr>\n",
       "      <th>151</th>\n",
       "      <td>aXQzDWsJuGXeBXexNHjc</td>\n",
       "      <td>26290</td>\n",
       "      <td>1525</td>\n",
       "      <td>5.800685</td>\n",
       "    </tr>\n",
       "    <tr>\n",
       "      <th>154</th>\n",
       "      <td>bByPQxmDaMXgpHeypKSM</td>\n",
       "      <td>86040</td>\n",
       "      <td>4676</td>\n",
       "      <td>5.434682</td>\n",
       "    </tr>\n",
       "    <tr>\n",
       "      <th>175</th>\n",
       "      <td>fDLlAcSmythWSCVMvqvL</td>\n",
       "      <td>253135</td>\n",
       "      <td>8928</td>\n",
       "      <td>3.526972</td>\n",
       "    </tr>\n",
       "    <tr>\n",
       "      <th>6</th>\n",
       "      <td>BHcvLfOaCWvWTykYqHVe</td>\n",
       "      <td>97625</td>\n",
       "      <td>3278</td>\n",
       "      <td>3.357746</td>\n",
       "    </tr>\n",
       "    <tr>\n",
       "      <th>146</th>\n",
       "      <td>ZpYIoDJMcFzVoPFsHGJL</td>\n",
       "      <td>485489</td>\n",
       "      <td>13360</td>\n",
       "      <td>2.751865</td>\n",
       "    </tr>\n",
       "  </tbody>\n",
       "</table>\n",
       "</div>"
      ],
      "text/plain": [
       "               utm_source  sessions  target_sessions        CR\n",
       "151  aXQzDWsJuGXeBXexNHjc     26290             1525  5.800685\n",
       "154  bByPQxmDaMXgpHeypKSM     86040             4676  5.434682\n",
       "175  fDLlAcSmythWSCVMvqvL    253135             8928  3.526972\n",
       "6    BHcvLfOaCWvWTykYqHVe     97625             3278  3.357746\n",
       "146  ZpYIoDJMcFzVoPFsHGJL    485489            13360  2.751865"
      ]
     },
     "execution_count": 50,
     "metadata": {},
     "output_type": "execute_result"
    }
   ],
   "source": [
    "# топ-5 по объёму CR\n",
    "cr_utm_source"
   ]
  },
  {
   "cell_type": "code",
   "execution_count": 51,
   "id": "327c916f-23d3-43a6-a5fd-f3633387d422",
   "metadata": {
    "tags": []
   },
   "outputs": [
    {
     "data": {
      "text/plain": [
       "Text(0.5, 0.98, 'Топ-5 источников')"
      ]
     },
     "execution_count": 51,
     "metadata": {},
     "output_type": "execute_result"
    },
    {
     "data": {
      "image/png": "[encoded data removed]",
      "text/plain": [
       "<Figure size 1440x432 with 2 Axes>"
      ]
     },
     "metadata": {},
     "output_type": "display_data"
    }
   ],
   "source": [
    "# топ-5 на графике\n",
    "fig, ax = plt.subplots(1, 2, figsize=(20, 6))\n",
    "fig.tight_layout(w_pad=15)\n",
    "plt.subplots_adjust(top=0.9)\n",
    "\n",
    "sns.barplot(ax=ax[0], data=target_utm_source, x='target_sessions', y='utm_source', palette='Set2')\n",
    "sns.barplot(ax=ax[1], data=cr_utm_source, x='CR', y='utm_source', palette='Set2')\n",
    "\n",
    "ax[0].set_xlabel('Целевые посещения', fontsize=16)\n",
    "ax[1].set_xlabel('CR', fontsize=16)\n",
    "fig.suptitle('Топ-5 источников', fontsize=20)"
   ]
  },
  {
   "cell_type": "markdown",
   "id": "49a36d49-e210-437c-8543-1ba40224eac6",
   "metadata": {},
   "source": [
    "#### Определение наиболее успешных кампаний\n",
    "\n",
    "Из анализа убрала неразмеченные кампании (not set). Из-за отстутствия разметки мы не сможем извлечь никакой полезной информации"
   ]
  },
  {
   "cell_type": "code",
   "execution_count": 52,
   "id": "79f613fe-bd47-4b58-bb50-7fa901739e07",
   "metadata": {},
   "outputs": [
    {
     "name": "stdout",
     "output_type": "stream",
     "text": [
      "Среднее кол-во сессий с utm_campaign: 3870\n"
     ]
    }
   ],
   "source": [
    "# группируем данные по utm_campaign и определяем топ-5 источников \n",
    "gr_utm_campaign = merged_data.groupby(['utm_campaign'], as_index=False).agg(\n",
    "    sessions = pd.NamedAgg(column='session_id', aggfunc='count'),\n",
    "    target_sessions = pd.NamedAgg(column='hit_type', aggfunc=lambda x: x[x == 'target event'].value_counts()[0] if len(x[x == 'target event'].value_counts()) > 0 else 0),\n",
    "    CR = pd.NamedAgg(column='CR', aggfunc='mean'))\n",
    "\n",
    "mean_sessions = gr_utm_campaign.sessions.mean()\n",
    "print('Среднее кол-во сессий с utm_campaign:', round(mean_sessions))\n",
    "  \n",
    "target_campaign = gr_utm_campaign[gr_utm_campaign.utm_campaign != '(not set)'].sort_values('target_sessions', ascending=False).head()\n",
    "cr_utm_campaign = gr_utm_campaign[(gr_utm_campaign.sessions > mean_sessions) & (gr_utm_campaign.utm_campaign != '(not set)')].sort_values('CR', ascending=False).head()"
   ]
  },
  {
   "cell_type": "code",
   "execution_count": 53,
   "id": "5861774b-48a5-415f-86c5-ed8bbf42c21e",
   "metadata": {},
   "outputs": [
    {
     "data": {
      "text/html": [
       "<div>\n",
       "<style scoped>\n",
       "    .dataframe tbody tr th:only-of-type {\n",
       "        vertical-align: middle;\n",
       "    }\n",
       "\n",
       "    .dataframe tbody tr th {\n",
       "        vertical-align: top;\n",
       "    }\n",
       "\n",
       "    .dataframe thead th {\n",
       "        text-align: right;\n",
       "    }\n",
       "</style>\n",
       "<table border=\"1\" class=\"dataframe\">\n",
       "  <thead>\n",
       "    <tr style=\"text-align: right;\">\n",
       "      <th></th>\n",
       "      <th>utm_campaign</th>\n",
       "      <th>sessions</th>\n",
       "      <th>target_sessions</th>\n",
       "      <th>CR</th>\n",
       "    </tr>\n",
       "  </thead>\n",
       "  <tbody>\n",
       "    <tr>\n",
       "      <th>87</th>\n",
       "      <td>LTuZkdKfxRGVceoWkVyg</td>\n",
       "      <td>390235</td>\n",
       "      <td>16029</td>\n",
       "      <td>4.107525</td>\n",
       "    </tr>\n",
       "    <tr>\n",
       "      <th>84</th>\n",
       "      <td>LEoPHuyFvzoNfnzGgfcd</td>\n",
       "      <td>272276</td>\n",
       "      <td>7862</td>\n",
       "      <td>2.887511</td>\n",
       "    </tr>\n",
       "    <tr>\n",
       "      <th>252</th>\n",
       "      <td>gecBYcKZCPMcVYdSSzKP</td>\n",
       "      <td>112227</td>\n",
       "      <td>3739</td>\n",
       "      <td>3.331640</td>\n",
       "    </tr>\n",
       "    <tr>\n",
       "      <th>39</th>\n",
       "      <td>FTjNLDyTrXaWYgZymFkV</td>\n",
       "      <td>208310</td>\n",
       "      <td>2081</td>\n",
       "      <td>0.998992</td>\n",
       "    </tr>\n",
       "    <tr>\n",
       "      <th>345</th>\n",
       "      <td>sbJRYgVfvcnqKJNDDYIr</td>\n",
       "      <td>16911</td>\n",
       "      <td>481</td>\n",
       "      <td>2.844303</td>\n",
       "    </tr>\n",
       "  </tbody>\n",
       "</table>\n",
       "</div>"
      ],
      "text/plain": [
       "             utm_campaign  sessions  target_sessions        CR\n",
       "87   LTuZkdKfxRGVceoWkVyg    390235            16029  4.107525\n",
       "84   LEoPHuyFvzoNfnzGgfcd    272276             7862  2.887511\n",
       "252  gecBYcKZCPMcVYdSSzKP    112227             3739  3.331640\n",
       "39   FTjNLDyTrXaWYgZymFkV    208310             2081  0.998992\n",
       "345  sbJRYgVfvcnqKJNDDYIr     16911              481  2.844303"
      ]
     },
     "execution_count": 53,
     "metadata": {},
     "output_type": "execute_result"
    }
   ],
   "source": [
    "# топ-5 по объёму целевого трафика\n",
    "target_campaign"
   ]
  },
  {
   "cell_type": "code",
   "execution_count": 54,
   "id": "6060daa4-61f2-4104-96d1-68ec6b1006b4",
   "metadata": {
    "tags": []
   },
   "outputs": [
    {
     "data": {
      "text/html": [
       "<div>\n",
       "<style scoped>\n",
       "    .dataframe tbody tr th:only-of-type {\n",
       "        vertical-align: middle;\n",
       "    }\n",
       "\n",
       "    .dataframe tbody tr th {\n",
       "        vertical-align: top;\n",
       "    }\n",
       "\n",
       "    .dataframe thead th {\n",
       "        text-align: right;\n",
       "    }\n",
       "</style>\n",
       "<table border=\"1\" class=\"dataframe\">\n",
       "  <thead>\n",
       "    <tr style=\"text-align: right;\">\n",
       "      <th></th>\n",
       "      <th>utm_campaign</th>\n",
       "      <th>sessions</th>\n",
       "      <th>target_sessions</th>\n",
       "      <th>CR</th>\n",
       "    </tr>\n",
       "  </thead>\n",
       "  <tbody>\n",
       "    <tr>\n",
       "      <th>87</th>\n",
       "      <td>LTuZkdKfxRGVceoWkVyg</td>\n",
       "      <td>390235</td>\n",
       "      <td>16029</td>\n",
       "      <td>4.107525</td>\n",
       "    </tr>\n",
       "    <tr>\n",
       "      <th>252</th>\n",
       "      <td>gecBYcKZCPMcVYdSSzKP</td>\n",
       "      <td>112227</td>\n",
       "      <td>3739</td>\n",
       "      <td>3.331640</td>\n",
       "    </tr>\n",
       "    <tr>\n",
       "      <th>236</th>\n",
       "      <td>eimRuUrNhZLAYcwRrNXu</td>\n",
       "      <td>6497</td>\n",
       "      <td>212</td>\n",
       "      <td>3.263044</td>\n",
       "    </tr>\n",
       "    <tr>\n",
       "      <th>84</th>\n",
       "      <td>LEoPHuyFvzoNfnzGgfcd</td>\n",
       "      <td>272276</td>\n",
       "      <td>7862</td>\n",
       "      <td>2.887511</td>\n",
       "    </tr>\n",
       "    <tr>\n",
       "      <th>276</th>\n",
       "      <td>jqlUOdZBNZYfInQVcZlS</td>\n",
       "      <td>5375</td>\n",
       "      <td>154</td>\n",
       "      <td>2.865116</td>\n",
       "    </tr>\n",
       "  </tbody>\n",
       "</table>\n",
       "</div>"
      ],
      "text/plain": [
       "             utm_campaign  sessions  target_sessions        CR\n",
       "87   LTuZkdKfxRGVceoWkVyg    390235            16029  4.107525\n",
       "252  gecBYcKZCPMcVYdSSzKP    112227             3739  3.331640\n",
       "236  eimRuUrNhZLAYcwRrNXu      6497              212  3.263044\n",
       "84   LEoPHuyFvzoNfnzGgfcd    272276             7862  2.887511\n",
       "276  jqlUOdZBNZYfInQVcZlS      5375              154  2.865116"
      ]
     },
     "execution_count": 54,
     "metadata": {},
     "output_type": "execute_result"
    }
   ],
   "source": [
    "# топ-5 по объёму CR\n",
    "cr_utm_campaign"
   ]
  },
  {
   "cell_type": "code",
   "execution_count": 55,
   "id": "2644a272-c712-4f55-a756-e24634a1544d",
   "metadata": {},
   "outputs": [
    {
     "data": {
      "text/plain": [
       "Text(0.5, 0.98, 'Топ-5 кампаний')"
      ]
     },
     "execution_count": 55,
     "metadata": {},
     "output_type": "execute_result"
    },
    {
     "data": {
      "image/png": "[encoded data removed]",
      "text/plain": [
       "<Figure size 1440x432 with 2 Axes>"
      ]
     },
     "metadata": {},
     "output_type": "display_data"
    }
   ],
   "source": [
    "# топ-5 на графике\n",
    "fig, ax = plt.subplots(1, 2, figsize=(20, 6))\n",
    "fig.tight_layout(w_pad=15)\n",
    "plt.subplots_adjust(top=0.9)\n",
    "\n",
    "sns.barplot(ax=ax[0], data=target_campaign, x='target_sessions', y='utm_campaign', palette='Set2')\n",
    "sns.barplot(ax=ax[1], data=cr_utm_campaign, x='CR', y='utm_campaign', palette='Set2')\n",
    "\n",
    "ax[0].set_xlabel('Целевые посещения', fontsize=16)\n",
    "ax[1].set_xlabel('CR', fontsize=16)\n",
    "fig.suptitle('Топ-5 кампаний', fontsize=20)"
   ]
  },
  {
   "cell_type": "markdown",
   "id": "fa3a048b-b547-473a-8fbe-2e0f8a2a79ba",
   "metadata": {},
   "source": [
    "#### Определение топовых локаций\n"
   ]
  },
  {
   "cell_type": "code",
   "execution_count": 56,
   "id": "2bec7602-8e35-4565-9682-53f7aff4eea5",
   "metadata": {},
   "outputs": [
    {
     "name": "stdout",
     "output_type": "stream",
     "text": [
      "Среднее кол-во сессий из разных локаций: 9651\n"
     ]
    }
   ],
   "source": [
    "# группируем данные по странам и определяем топ-5 источников \n",
    "gr_geo = merged_data.groupby(['geo_country'], as_index=False).agg(\n",
    "    sessions = pd.NamedAgg(column='session_id', aggfunc='count'),\n",
    "    target_sessions = pd.NamedAgg(column='hit_type', aggfunc=lambda x: x[x == 'target event'].value_counts()[0] if len(x[x == 'target event'].value_counts()) > 0 else 0),\n",
    "    CR = pd.NamedAgg(column='CR', aggfunc='mean'))\n",
    "\n",
    "mean_geo = gr_geo.sessions.mean()\n",
    "print('Среднее кол-во сессий из разных локаций:', round(mean_geo))\n",
    "  \n",
    "target_geo = gr_geo.sort_values('target_sessions', ascending=False).head()\n",
    "cr_geo = gr_geo[gr_geo.sessions > mean_geo].sort_values('CR', ascending=False).head()"
   ]
  },
  {
   "cell_type": "code",
   "execution_count": 57,
   "id": "2c9028a0-6c64-4b36-b887-62db3b9a3a7b",
   "metadata": {},
   "outputs": [
    {
     "data": {
      "text/html": [
       "<div>\n",
       "<style scoped>\n",
       "    .dataframe tbody tr th:only-of-type {\n",
       "        vertical-align: middle;\n",
       "    }\n",
       "\n",
       "    .dataframe tbody tr th {\n",
       "        vertical-align: top;\n",
       "    }\n",
       "\n",
       "    .dataframe thead th {\n",
       "        text-align: right;\n",
       "    }\n",
       "</style>\n",
       "<table border=\"1\" class=\"dataframe\">\n",
       "  <thead>\n",
       "    <tr style=\"text-align: right;\">\n",
       "      <th></th>\n",
       "      <th>geo_country</th>\n",
       "      <th>sessions</th>\n",
       "      <th>target_sessions</th>\n",
       "      <th>CR</th>\n",
       "    </tr>\n",
       "  </thead>\n",
       "  <tbody>\n",
       "    <tr>\n",
       "      <th>119</th>\n",
       "      <td>Russia</td>\n",
       "      <td>1513420</td>\n",
       "      <td>41353</td>\n",
       "      <td>2.732421</td>\n",
       "    </tr>\n",
       "    <tr>\n",
       "      <th>150</th>\n",
       "      <td>Ukraine</td>\n",
       "      <td>7595</td>\n",
       "      <td>167</td>\n",
       "      <td>2.198815</td>\n",
       "    </tr>\n",
       "    <tr>\n",
       "      <th>51</th>\n",
       "      <td>Germany</td>\n",
       "      <td>1860</td>\n",
       "      <td>61</td>\n",
       "      <td>3.279570</td>\n",
       "    </tr>\n",
       "    <tr>\n",
       "      <th>153</th>\n",
       "      <td>United States</td>\n",
       "      <td>9920</td>\n",
       "      <td>49</td>\n",
       "      <td>0.493952</td>\n",
       "    </tr>\n",
       "    <tr>\n",
       "      <th>73</th>\n",
       "      <td>Kazakhstan</td>\n",
       "      <td>1928</td>\n",
       "      <td>47</td>\n",
       "      <td>2.437759</td>\n",
       "    </tr>\n",
       "  </tbody>\n",
       "</table>\n",
       "</div>"
      ],
      "text/plain": [
       "       geo_country  sessions  target_sessions        CR\n",
       "119         Russia   1513420            41353  2.732421\n",
       "150        Ukraine      7595              167  2.198815\n",
       "51         Germany      1860               61  3.279570\n",
       "153  United States      9920               49  0.493952\n",
       "73      Kazakhstan      1928               47  2.437759"
      ]
     },
     "execution_count": 57,
     "metadata": {},
     "output_type": "execute_result"
    }
   ],
   "source": [
    "# топ-5 по объёму целевого трафика\n",
    "target_geo"
   ]
  },
  {
   "cell_type": "code",
   "execution_count": 58,
   "id": "3ce657aa-6771-46c7-9c28-ca88992e65c8",
   "metadata": {
    "tags": []
   },
   "outputs": [
    {
     "data": {
      "text/html": [
       "<div>\n",
       "<style scoped>\n",
       "    .dataframe tbody tr th:only-of-type {\n",
       "        vertical-align: middle;\n",
       "    }\n",
       "\n",
       "    .dataframe tbody tr th {\n",
       "        vertical-align: top;\n",
       "    }\n",
       "\n",
       "    .dataframe thead th {\n",
       "        text-align: right;\n",
       "    }\n",
       "</style>\n",
       "<table border=\"1\" class=\"dataframe\">\n",
       "  <thead>\n",
       "    <tr style=\"text-align: right;\">\n",
       "      <th></th>\n",
       "      <th>geo_country</th>\n",
       "      <th>sessions</th>\n",
       "      <th>target_sessions</th>\n",
       "      <th>CR</th>\n",
       "    </tr>\n",
       "  </thead>\n",
       "  <tbody>\n",
       "    <tr>\n",
       "      <th>119</th>\n",
       "      <td>Russia</td>\n",
       "      <td>1513420</td>\n",
       "      <td>41353</td>\n",
       "      <td>2.732421</td>\n",
       "    </tr>\n",
       "    <tr>\n",
       "      <th>153</th>\n",
       "      <td>United States</td>\n",
       "      <td>9920</td>\n",
       "      <td>49</td>\n",
       "      <td>0.493952</td>\n",
       "    </tr>\n",
       "  </tbody>\n",
       "</table>\n",
       "</div>"
      ],
      "text/plain": [
       "       geo_country  sessions  target_sessions        CR\n",
       "119         Russia   1513420            41353  2.732421\n",
       "153  United States      9920               49  0.493952"
      ]
     },
     "execution_count": 58,
     "metadata": {},
     "output_type": "execute_result"
    }
   ],
   "source": [
    "# топ по CR\n",
    "cr_geo"
   ]
  },
  {
   "cell_type": "markdown",
   "id": "9531d221-ea33-4bfd-b5fd-a075af4f6a0e",
   "metadata": {},
   "source": [
    "Разбивка по странам не очень информативна, т.к сервис работает на территории РФ и подавляющее большинство пользователей тоже из РФ. Поэтому посмотрим разбивку по городам страны"
   ]
  },
  {
   "cell_type": "code",
   "execution_count": 59,
   "id": "61101d0e-6c57-4d87-897c-f95d1e29c031",
   "metadata": {},
   "outputs": [
    {
     "name": "stdout",
     "output_type": "stream",
     "text": [
      "Среднее кол-во сессий из разных локаций: 3003\n"
     ]
    }
   ],
   "source": [
    "# группируем данные по городам и определяем топ-5 источников \n",
    "gr_geo = merged_data[merged_data.geo_country == 'Russia'].groupby(['geo_city'], as_index=False).agg(\n",
    "    sessions = pd.NamedAgg(column='session_id', aggfunc='count'),\n",
    "    target_sessions = pd.NamedAgg(column='hit_type', aggfunc=lambda x: x[x == 'target event'].value_counts()[0] if len(x[x == 'target event'].value_counts()) > 0 else 0),\n",
    "    CR = pd.NamedAgg(column='CR', aggfunc='mean'))\n",
    "\n",
    "mean_geo = gr_geo.sessions.mean()\n",
    "print('Среднее кол-во сессий из разных локаций:', round(mean_geo))\n",
    "  \n",
    "target_geo = gr_geo[gr_geo.geo_city != '(not set)'].sort_values('target_sessions', ascending=False).head()\n",
    "cr_geo = gr_geo[(gr_geo.sessions > mean_geo) & (gr_geo.geo_city != '(not set)')].sort_values('CR', ascending=False).head()"
   ]
  },
  {
   "cell_type": "code",
   "execution_count": 60,
   "id": "6e57fde1-11e3-4c62-93e4-2d9310012060",
   "metadata": {},
   "outputs": [
    {
     "data": {
      "text/html": [
       "<div>\n",
       "<style scoped>\n",
       "    .dataframe tbody tr th:only-of-type {\n",
       "        vertical-align: middle;\n",
       "    }\n",
       "\n",
       "    .dataframe tbody tr th {\n",
       "        vertical-align: top;\n",
       "    }\n",
       "\n",
       "    .dataframe thead th {\n",
       "        text-align: right;\n",
       "    }\n",
       "</style>\n",
       "<table border=\"1\" class=\"dataframe\">\n",
       "  <thead>\n",
       "    <tr style=\"text-align: right;\">\n",
       "      <th></th>\n",
       "      <th>geo_city</th>\n",
       "      <th>sessions</th>\n",
       "      <th>target_sessions</th>\n",
       "      <th>CR</th>\n",
       "    </tr>\n",
       "  </thead>\n",
       "  <tbody>\n",
       "    <tr>\n",
       "      <th>246</th>\n",
       "      <td>Moscow</td>\n",
       "      <td>676633</td>\n",
       "      <td>19907</td>\n",
       "      <td>2.942068</td>\n",
       "    </tr>\n",
       "    <tr>\n",
       "      <th>349</th>\n",
       "      <td>Saint Petersburg</td>\n",
       "      <td>249611</td>\n",
       "      <td>5994</td>\n",
       "      <td>2.401336</td>\n",
       "    </tr>\n",
       "    <tr>\n",
       "      <th>146</th>\n",
       "      <td>Kazan</td>\n",
       "      <td>24863</td>\n",
       "      <td>969</td>\n",
       "      <td>3.897358</td>\n",
       "    </tr>\n",
       "    <tr>\n",
       "      <th>187</th>\n",
       "      <td>Krasnodar</td>\n",
       "      <td>27070</td>\n",
       "      <td>901</td>\n",
       "      <td>3.328408</td>\n",
       "    </tr>\n",
       "    <tr>\n",
       "      <th>478</th>\n",
       "      <td>Yekaterinburg</td>\n",
       "      <td>30033</td>\n",
       "      <td>756</td>\n",
       "      <td>2.517231</td>\n",
       "    </tr>\n",
       "  </tbody>\n",
       "</table>\n",
       "</div>"
      ],
      "text/plain": [
       "             geo_city  sessions  target_sessions        CR\n",
       "246            Moscow    676633            19907  2.942068\n",
       "349  Saint Petersburg    249611             5994  2.401336\n",
       "146             Kazan     24863              969  3.897358\n",
       "187         Krasnodar     27070              901  3.328408\n",
       "478     Yekaterinburg     30033              756  2.517231"
      ]
     },
     "execution_count": 60,
     "metadata": {},
     "output_type": "execute_result"
    }
   ],
   "source": [
    "# топ-5 по объёму целевого трафика\n",
    "target_geo"
   ]
  },
  {
   "cell_type": "code",
   "execution_count": 61,
   "id": "f5ac075b-a35f-4793-bb57-602fd9ce7a59",
   "metadata": {},
   "outputs": [
    {
     "data": {
      "text/html": [
       "<div>\n",
       "<style scoped>\n",
       "    .dataframe tbody tr th:only-of-type {\n",
       "        vertical-align: middle;\n",
       "    }\n",
       "\n",
       "    .dataframe tbody tr th {\n",
       "        vertical-align: top;\n",
       "    }\n",
       "\n",
       "    .dataframe thead th {\n",
       "        text-align: right;\n",
       "    }\n",
       "</style>\n",
       "<table border=\"1\" class=\"dataframe\">\n",
       "  <thead>\n",
       "    <tr style=\"text-align: right;\">\n",
       "      <th></th>\n",
       "      <th>geo_city</th>\n",
       "      <th>sessions</th>\n",
       "      <th>target_sessions</th>\n",
       "      <th>CR</th>\n",
       "    </tr>\n",
       "  </thead>\n",
       "  <tbody>\n",
       "    <tr>\n",
       "      <th>92</th>\n",
       "      <td>Domodedovo</td>\n",
       "      <td>3416</td>\n",
       "      <td>223</td>\n",
       "      <td>6.528103</td>\n",
       "    </tr>\n",
       "    <tr>\n",
       "      <th>397</th>\n",
       "      <td>Stavropol</td>\n",
       "      <td>3683</td>\n",
       "      <td>151</td>\n",
       "      <td>4.099919</td>\n",
       "    </tr>\n",
       "    <tr>\n",
       "      <th>146</th>\n",
       "      <td>Kazan</td>\n",
       "      <td>24863</td>\n",
       "      <td>969</td>\n",
       "      <td>3.897358</td>\n",
       "    </tr>\n",
       "    <tr>\n",
       "      <th>177</th>\n",
       "      <td>Korolyov</td>\n",
       "      <td>3472</td>\n",
       "      <td>131</td>\n",
       "      <td>3.773041</td>\n",
       "    </tr>\n",
       "    <tr>\n",
       "      <th>385</th>\n",
       "      <td>Sochi</td>\n",
       "      <td>7481</td>\n",
       "      <td>258</td>\n",
       "      <td>3.448737</td>\n",
       "    </tr>\n",
       "  </tbody>\n",
       "</table>\n",
       "</div>"
      ],
      "text/plain": [
       "       geo_city  sessions  target_sessions        CR\n",
       "92   Domodedovo      3416              223  6.528103\n",
       "397   Stavropol      3683              151  4.099919\n",
       "146       Kazan     24863              969  3.897358\n",
       "177    Korolyov      3472              131  3.773041\n",
       "385       Sochi      7481              258  3.448737"
      ]
     },
     "execution_count": 61,
     "metadata": {},
     "output_type": "execute_result"
    }
   ],
   "source": [
    "# топ-5 по CR\n",
    "cr_geo"
   ]
  },
  {
   "cell_type": "code",
   "execution_count": 62,
   "id": "077b2f88-be53-4738-9482-feb19c2588f7",
   "metadata": {},
   "outputs": [
    {
     "data": {
      "text/plain": [
       "Text(0.5, 0.98, 'Топ-5 городов')"
      ]
     },
     "execution_count": 62,
     "metadata": {},
     "output_type": "execute_result"
    },
    {
     "data": {
      "image/png": "[encoded data removed]",
      "text/plain": [
       "<Figure size 1440x432 with 2 Axes>"
      ]
     },
     "metadata": {},
     "output_type": "display_data"
    }
   ],
   "source": [
    "# топ-5 на графике\n",
    "fig, ax = plt.subplots(1, 2, figsize=(20, 6))\n",
    "fig.tight_layout(w_pad=15)\n",
    "plt.subplots_adjust(top=0.9)\n",
    "\n",
    "sns.barplot(ax=ax[0], data=target_geo, x='target_sessions', y='geo_city', palette='Set2')\n",
    "sns.barplot(ax=ax[1], data=cr_geo, x='CR', y='geo_city', palette='Set2')\n",
    "\n",
    "ax[0].set_xlabel('Целевые посещения', fontsize=16)\n",
    "ax[1].set_xlabel('CR', fontsize=16)\n",
    "fig.suptitle('Топ-5 городов', fontsize=20)"
   ]
  },
  {
   "cell_type": "markdown",
   "id": "baaf9ccc-16d5-4d8c-bf79-7606afeb2671",
   "metadata": {
    "tags": []
   },
   "source": [
    "По кол-ву сессий никаких сюрпризов – на первых местах Москва и Санкт-Петербург. А с CR есть интересные наблюдения – помимо городов Подмосковья в топ попали города с юга страны и Казань, возможно стоит обратить внимание на эти направления"
   ]
  },
  {
   "cell_type": "markdown",
   "id": "8a4486ef-3bf9-4ebd-9d42-acf0ae0ef42b",
   "metadata": {},
   "source": [
    "#### Устройства с которых приходит самый целевой трафик\n",
    "\n"
   ]
  },
  {
   "cell_type": "code",
   "execution_count": 75,
   "id": "82ec1734-c9e4-4628-b4a9-c20e58c34bab",
   "metadata": {},
   "outputs": [],
   "source": [
    "# группируем данные по типам устройств \n",
    "gr_device_category2 = merged_data.groupby(['device_category'], as_index=False).agg(\n",
    "    sessions = pd.NamedAgg(column='session_id', aggfunc='count'),\n",
    "    target_sessions = pd.NamedAgg(column='hit_type', aggfunc=lambda x: x[x == 'target event'].value_counts()[0] if len(x[x == 'target event'].value_counts()) > 0 else 0),\n",
    "    CR = pd.NamedAgg(column='CR', aggfunc='mean'))"
   ]
  },
  {
   "cell_type": "code",
   "execution_count": 76,
   "id": "811279ec-1562-46b6-88a7-031ad7e42226",
   "metadata": {
    "tags": []
   },
   "outputs": [
    {
     "data": {
      "text/html": [
       "<div>\n",
       "<style scoped>\n",
       "    .dataframe tbody tr th:only-of-type {\n",
       "        vertical-align: middle;\n",
       "    }\n",
       "\n",
       "    .dataframe tbody tr th {\n",
       "        vertical-align: top;\n",
       "    }\n",
       "\n",
       "    .dataframe thead th {\n",
       "        text-align: right;\n",
       "    }\n",
       "</style>\n",
       "<table border=\"1\" class=\"dataframe\">\n",
       "  <thead>\n",
       "    <tr style=\"text-align: right;\">\n",
       "      <th></th>\n",
       "      <th>device_category</th>\n",
       "      <th>sessions</th>\n",
       "      <th>target_sessions</th>\n",
       "      <th>CR</th>\n",
       "    </tr>\n",
       "  </thead>\n",
       "  <tbody>\n",
       "    <tr>\n",
       "      <th>0</th>\n",
       "      <td>desktop</td>\n",
       "      <td>308894</td>\n",
       "      <td>9726</td>\n",
       "      <td>3.148653</td>\n",
       "    </tr>\n",
       "    <tr>\n",
       "      <th>1</th>\n",
       "      <td>mobile</td>\n",
       "      <td>1254643</td>\n",
       "      <td>32579</td>\n",
       "      <td>2.596675</td>\n",
       "    </tr>\n",
       "  </tbody>\n",
       "</table>\n",
       "</div>"
      ],
      "text/plain": [
       "  device_category  sessions  target_sessions        CR\n",
       "0         desktop    308894             9726  3.148653\n",
       "1          mobile   1254643            32579  2.596675"
      ]
     },
     "execution_count": 76,
     "metadata": {},
     "output_type": "execute_result"
    },
    {
     "data": {
      "image/png": "[encoded data removed]",
      "text/plain": [
       "<Figure size 1296x288 with 2 Axes>"
      ]
     },
     "metadata": {},
     "output_type": "display_data"
    }
   ],
   "source": [
    "# распределение на графике\n",
    "fig, ax = plt.subplots(1, 2, figsize=(18, 4))\n",
    "fig.tight_layout(w_pad=15)\n",
    "plt.subplots_adjust(top=0.8)\n",
    "\n",
    "sns.barplot(ax=ax[0], data=gr_device_category2, x='target_sessions', y='device_category', palette='Set2')\n",
    "sns.barplot(ax=ax[1], data=gr_device_category2, x='CR', y='device_category', palette='Set2')\n",
    "\n",
    "ax[0].set_xlabel('Целевые посещения', fontsize=16)\n",
    "ax[1].set_xlabel('CR', fontsize=16)\n",
    "fig.suptitle('Распределение мобильного и десктопного трафика', fontsize=20)\n",
    "\n",
    "gr_device_category2"
   ]
  },
  {
   "cell_type": "markdown",
   "id": "909b545d-9aef-46d8-a9b8-e07871c33fe7",
   "metadata": {},
   "source": [
    "Видно, что объём мобильного трафика значительно больше, но CR у десктопа все таки выше. Дополнительно посмотрим на показатели в динамике"
   ]
  },
  {
   "cell_type": "code",
   "execution_count": 77,
   "id": "23962861-7473-4998-a08c-20af749c401d",
   "metadata": {},
   "outputs": [
    {
     "data": {
      "text/plain": [
       "<AxesSubplot:xlabel='visit_month', ylabel='sessions'>"
      ]
     },
     "execution_count": 77,
     "metadata": {},
     "output_type": "execute_result"
    },
    {
     "data": {
      "image/png": "[encoded data removed]",
      "text/plain": [
       "<Figure size 1152x360 with 2 Axes>"
      ]
     },
     "metadata": {},
     "output_type": "display_data"
    }
   ],
   "source": [
    "# посмотрим распределение временном на графике\n",
    "fig, ax = plt.subplots(1, 2, figsize=(16,5))\n",
    "sns.set_theme(style=\"darkgrid\")\n",
    "sns.lineplot(ax=ax[0], data=gr_device_category, x='visit_month', y='CR',\n",
    "            hue='device_category',\n",
    "            alpha=0.8)\n",
    "\n",
    "sns.lineplot(ax=ax[1], data=gr_device_category, x='visit_month', y='sessions',\n",
    "            hue='device_category',\n",
    "            alpha=0.8)"
   ]
  },
  {
   "cell_type": "markdown",
   "id": "03607846-a5bb-4d1b-b7d0-4ea3534d9814",
   "metadata": {},
   "source": [
    "Здесь видно, что мобильный трафик сильно приростает по кол-ву сессий, но CR у него падает. Возможно с мобильных устройств не так удобно оставить заявку"
   ]
  },
  {
   "cell_type": "markdown",
   "id": "9618cc78-4c13-4dda-9476-46b17d06aa33",
   "metadata": {},
   "source": [
    "### 1. Какие авто пользуются наибольшим спросом? У каких авто самый лучший показатель CR (Conversion Rate) в целевые события?"
   ]
  },
  {
   "cell_type": "code",
   "execution_count": 78,
   "id": "19f867c7-f40a-4ef6-9000-a88cc71c61ce",
   "metadata": {},
   "outputs": [
    {
     "name": "stdout",
     "output_type": "stream",
     "text": [
      "Среднее кол-во сессий на модель авто: 2682\n"
     ]
    }
   ],
   "source": [
    "# группируем данные по маркам авто\n",
    "gr_model = merged_data[merged_data.model != 'other'].groupby(['model'], as_index=False).agg(\n",
    "    sessions = pd.NamedAgg(column='session_id', aggfunc='count'),\n",
    "    target_sessions = pd.NamedAgg(column='hit_type', aggfunc=lambda x: x[x == 'target event'].value_counts()[0] if len(x[x == 'target event'].value_counts()) > 0 else 0),\n",
    "    CR = pd.NamedAgg(column='CR', aggfunc='mean'))\n",
    "\n",
    "mean_sessions = gr_model.sessions.mean()\n",
    "print('Среднее кол-во сессий на модель авто:', round(mean_sessions))\n",
    "  \n",
    "target_model = gr_model.sort_values('target_sessions', ascending=False).head()\n",
    "cr_model = gr_model[gr_model.sessions > mean_sessions].sort_values('CR', ascending=False).head()"
   ]
  },
  {
   "cell_type": "code",
   "execution_count": 79,
   "id": "1bcffac8-e31a-48e6-825d-2ff9442267d9",
   "metadata": {},
   "outputs": [
    {
     "data": {
      "text/html": [
       "<div>\n",
       "<style scoped>\n",
       "    .dataframe tbody tr th:only-of-type {\n",
       "        vertical-align: middle;\n",
       "    }\n",
       "\n",
       "    .dataframe tbody tr th {\n",
       "        vertical-align: top;\n",
       "    }\n",
       "\n",
       "    .dataframe thead th {\n",
       "        text-align: right;\n",
       "    }\n",
       "</style>\n",
       "<table border=\"1\" class=\"dataframe\">\n",
       "  <thead>\n",
       "    <tr style=\"text-align: right;\">\n",
       "      <th></th>\n",
       "      <th>model</th>\n",
       "      <th>sessions</th>\n",
       "      <th>target_sessions</th>\n",
       "      <th>CR</th>\n",
       "    </tr>\n",
       "  </thead>\n",
       "  <tbody>\n",
       "    <tr>\n",
       "      <th>56</th>\n",
       "      <td>skoda rapid</td>\n",
       "      <td>27092</td>\n",
       "      <td>2058</td>\n",
       "      <td>7.596338</td>\n",
       "    </tr>\n",
       "    <tr>\n",
       "      <th>25</th>\n",
       "      <td>lada-vaz vesta</td>\n",
       "      <td>23353</td>\n",
       "      <td>1955</td>\n",
       "      <td>8.371515</td>\n",
       "    </tr>\n",
       "    <tr>\n",
       "      <th>64</th>\n",
       "      <td>volkswagen polo</td>\n",
       "      <td>16883</td>\n",
       "      <td>1634</td>\n",
       "      <td>9.678375</td>\n",
       "    </tr>\n",
       "    <tr>\n",
       "      <th>20</th>\n",
       "      <td>kia rio</td>\n",
       "      <td>4381</td>\n",
       "      <td>487</td>\n",
       "      <td>11.116184</td>\n",
       "    </tr>\n",
       "    <tr>\n",
       "      <th>53</th>\n",
       "      <td>skoda karoq</td>\n",
       "      <td>9962</td>\n",
       "      <td>475</td>\n",
       "      <td>4.768119</td>\n",
       "    </tr>\n",
       "  </tbody>\n",
       "</table>\n",
       "</div>"
      ],
      "text/plain": [
       "              model  sessions  target_sessions         CR\n",
       "56      skoda rapid     27092             2058   7.596338\n",
       "25   lada-vaz vesta     23353             1955   8.371515\n",
       "64  volkswagen polo     16883             1634   9.678375\n",
       "20          kia rio      4381              487  11.116184\n",
       "53      skoda karoq      9962              475   4.768119"
      ]
     },
     "execution_count": 79,
     "metadata": {},
     "output_type": "execute_result"
    }
   ],
   "source": [
    "target_model"
   ]
  },
  {
   "cell_type": "code",
   "execution_count": 80,
   "id": "004de4f1-7a23-4220-aa75-fed392dfe812",
   "metadata": {},
   "outputs": [
    {
     "data": {
      "text/html": [
       "<div>\n",
       "<style scoped>\n",
       "    .dataframe tbody tr th:only-of-type {\n",
       "        vertical-align: middle;\n",
       "    }\n",
       "\n",
       "    .dataframe tbody tr th {\n",
       "        vertical-align: top;\n",
       "    }\n",
       "\n",
       "    .dataframe thead th {\n",
       "        text-align: right;\n",
       "    }\n",
       "</style>\n",
       "<table border=\"1\" class=\"dataframe\">\n",
       "  <thead>\n",
       "    <tr style=\"text-align: right;\">\n",
       "      <th></th>\n",
       "      <th>model</th>\n",
       "      <th>sessions</th>\n",
       "      <th>target_sessions</th>\n",
       "      <th>CR</th>\n",
       "    </tr>\n",
       "  </thead>\n",
       "  <tbody>\n",
       "    <tr>\n",
       "      <th>58</th>\n",
       "      <td>toyota camry</td>\n",
       "      <td>3408</td>\n",
       "      <td>420</td>\n",
       "      <td>12.323944</td>\n",
       "    </tr>\n",
       "    <tr>\n",
       "      <th>20</th>\n",
       "      <td>kia rio</td>\n",
       "      <td>4381</td>\n",
       "      <td>487</td>\n",
       "      <td>11.116184</td>\n",
       "    </tr>\n",
       "    <tr>\n",
       "      <th>64</th>\n",
       "      <td>volkswagen polo</td>\n",
       "      <td>16883</td>\n",
       "      <td>1634</td>\n",
       "      <td>9.678375</td>\n",
       "    </tr>\n",
       "    <tr>\n",
       "      <th>55</th>\n",
       "      <td>skoda octavia</td>\n",
       "      <td>3438</td>\n",
       "      <td>294</td>\n",
       "      <td>8.551483</td>\n",
       "    </tr>\n",
       "    <tr>\n",
       "      <th>25</th>\n",
       "      <td>lada-vaz vesta</td>\n",
       "      <td>23353</td>\n",
       "      <td>1955</td>\n",
       "      <td>8.371515</td>\n",
       "    </tr>\n",
       "  </tbody>\n",
       "</table>\n",
       "</div>"
      ],
      "text/plain": [
       "              model  sessions  target_sessions         CR\n",
       "58     toyota camry      3408              420  12.323944\n",
       "20          kia rio      4381              487  11.116184\n",
       "64  volkswagen polo     16883             1634   9.678375\n",
       "55    skoda octavia      3438              294   8.551483\n",
       "25   lada-vaz vesta     23353             1955   8.371515"
      ]
     },
     "execution_count": 80,
     "metadata": {},
     "output_type": "execute_result"
    }
   ],
   "source": [
    "cr_model"
   ]
  },
  {
   "cell_type": "code",
   "execution_count": 81,
   "id": "5c5e4c26-44f3-4586-8e18-ceaba74ec45b",
   "metadata": {},
   "outputs": [
    {
     "data": {
      "text/plain": [
       "Text(0.5, 0.98, 'Топ-5 марок авто')"
      ]
     },
     "execution_count": 81,
     "metadata": {},
     "output_type": "execute_result"
    },
    {
     "data": {
      "image/png": "[encoded data removed]",
      "text/plain": [
       "<Figure size 1296x288 with 2 Axes>"
      ]
     },
     "metadata": {},
     "output_type": "display_data"
    }
   ],
   "source": [
    "# распределение на графике\n",
    "fig, ax = plt.subplots(1, 2, figsize=(18, 4))\n",
    "fig.tight_layout(w_pad=15)\n",
    "plt.subplots_adjust(top=0.8)\n",
    "\n",
    "sns.barplot(ax=ax[0], data=target_model, x='target_sessions', y='model', palette='Set2')\n",
    "sns.barplot(ax=ax[1], data=cr_model, x='CR', y='model', palette='Set2')\n",
    "\n",
    "ax[0].set_xlabel('Целевые посещения', fontsize=16)\n",
    "ax[1].set_xlabel('CR', fontsize=16)\n",
    "fig.suptitle('Топ-5 марок авто', fontsize=20)"
   ]
  },
  {
   "cell_type": "markdown",
   "id": "fc794c7a-6a45-4951-a15b-b8d3f847dc22",
   "metadata": {},
   "source": [
    "Большинство автомобилей представленных на графиках относятся к эконом-классу, именно они и пользуются наибольшим спросом"
   ]
  },
  {
   "cell_type": "markdown",
   "id": "5c35567d-32a5-45c1-ba93-6adf532f96e1",
   "metadata": {},
   "source": [
    "## 3. Стоит ли нам увеличивать своё присутствие в соцсетях и давать там больше рекламы?"
   ]
  },
  {
   "cell_type": "code",
   "execution_count": 82,
   "id": "98a149b6-3f80-4611-a165-df17322eb05b",
   "metadata": {},
   "outputs": [],
   "source": [
    "# сгруппируем данные по типу источниа\n",
    "gr_source = merged_data.groupby(['source_type'], as_index=False).agg(\n",
    "    sessions = pd.NamedAgg(column='session_id', aggfunc='count'),\n",
    "    target_sessions = pd.NamedAgg(column='hit_type', aggfunc=lambda x: x[x == 'target event'].value_counts()[0] if len(x[x == 'target event'].value_counts()) > 0 else 0),\n",
    "    CR = pd.NamedAgg(column='CR', aggfunc='mean'))"
   ]
  },
  {
   "cell_type": "code",
   "execution_count": 83,
   "id": "7e0616c5-860c-4203-adcb-a608d53dcf6f",
   "metadata": {},
   "outputs": [
    {
     "data": {
      "text/html": [
       "<div>\n",
       "<style scoped>\n",
       "    .dataframe tbody tr th:only-of-type {\n",
       "        vertical-align: middle;\n",
       "    }\n",
       "\n",
       "    .dataframe tbody tr th {\n",
       "        vertical-align: top;\n",
       "    }\n",
       "\n",
       "    .dataframe thead th {\n",
       "        text-align: right;\n",
       "    }\n",
       "</style>\n",
       "<table border=\"1\" class=\"dataframe\">\n",
       "  <thead>\n",
       "    <tr style=\"text-align: right;\">\n",
       "      <th></th>\n",
       "      <th>source_type</th>\n",
       "      <th>sessions</th>\n",
       "      <th>target_sessions</th>\n",
       "      <th>CR</th>\n",
       "    </tr>\n",
       "  </thead>\n",
       "  <tbody>\n",
       "    <tr>\n",
       "      <th>0</th>\n",
       "      <td>other</td>\n",
       "      <td>1332450</td>\n",
       "      <td>38907</td>\n",
       "      <td>2.919959</td>\n",
       "    </tr>\n",
       "    <tr>\n",
       "      <th>1</th>\n",
       "      <td>social</td>\n",
       "      <td>231087</td>\n",
       "      <td>3398</td>\n",
       "      <td>1.470442</td>\n",
       "    </tr>\n",
       "  </tbody>\n",
       "</table>\n",
       "</div>"
      ],
      "text/plain": [
       "  source_type  sessions  target_sessions        CR\n",
       "0       other   1332450            38907  2.919959\n",
       "1      social    231087             3398  1.470442"
      ]
     },
     "execution_count": 83,
     "metadata": {},
     "output_type": "execute_result"
    },
    {
     "data": {
      "image/png": "[encoded data removed]",
      "text/plain": [
       "<Figure size 1296x288 with 2 Axes>"
      ]
     },
     "metadata": {},
     "output_type": "display_data"
    }
   ],
   "source": [
    "# распределение на графике\n",
    "fig, ax = plt.subplots(1, 2, figsize=(18, 4))\n",
    "fig.tight_layout(w_pad=15)\n",
    "plt.subplots_adjust(top=0.8)\n",
    "\n",
    "sns.barplot(ax=ax[0], data=gr_source, x='target_sessions', y='source_type', palette='Set2')\n",
    "sns.barplot(ax=ax[1], data=gr_source, x='CR', y='source_type', palette='Set2')\n",
    "\n",
    "ax[0].set_xlabel('Целевые посещения', fontsize=16)\n",
    "ax[1].set_xlabel('CR', fontsize=16)\n",
    "fig.suptitle('Распределение мобильного и десктопного трафика', fontsize=20)\n",
    "\n",
    "gr_source"
   ]
  },
  {
   "cell_type": "markdown",
   "id": "33792afd-6f5d-4d43-b7ce-e4505931e06f",
   "metadata": {},
   "source": [
    "На графиках видно, что по сравнению с другими видами трафика соцсети занимают незначительную часть. CR из соцсетей в два раза ниже показателей из других источников. Дополнительно посмотрим на показатели в динамике"
   ]
  },
  {
   "cell_type": "code",
   "execution_count": 84,
   "id": "211b3740-9408-4233-bfd9-47e43f5ddd27",
   "metadata": {},
   "outputs": [],
   "source": [
    "gr_source2 = merged_data.groupby(['visit_month', 'source_type'], as_index=False).agg(\n",
    "    sessions = pd.NamedAgg(column='session_id', aggfunc='count'),\n",
    "    target_sessions = pd.NamedAgg(column='hit_type', aggfunc=lambda x: x[x == 'target event'].value_counts()[0] if len(x[x == 'target event'].value_counts()) > 0 else 0),\n",
    "    CR = pd.NamedAgg(column='CR', aggfunc='mean'))"
   ]
  },
  {
   "cell_type": "code",
   "execution_count": 85,
   "id": "4192daf0-4524-42dc-8f9d-5b2a8df11b91",
   "metadata": {},
   "outputs": [
    {
     "data": {
      "text/plain": [
       "<AxesSubplot:xlabel='visit_month', ylabel='sessions'>"
      ]
     },
     "execution_count": 85,
     "metadata": {},
     "output_type": "execute_result"
    },
    {
     "data": {
      "image/png": "[encoded data removed]",
      "text/plain": [
       "<Figure size 1152x360 with 2 Axes>"
      ]
     },
     "metadata": {},
     "output_type": "display_data"
    }
   ],
   "source": [
    "# посмотрим распределение временном на графике\n",
    "fig, ax = plt.subplots(1, 2, figsize=(16,5))\n",
    "sns.set_theme(style=\"darkgrid\")\n",
    "sns.lineplot(ax=ax[0], data=gr_source2, x='visit_month', y='CR',\n",
    "            hue='source_type',\n",
    "            alpha=0.8)\n",
    "\n",
    "sns.lineplot(ax=ax[1], data=gr_source2, x='visit_month', y='sessions',\n",
    "            hue='source_type',\n",
    "            alpha=0.8)"
   ]
  },
  {
   "cell_type": "markdown",
   "id": "72c64535-c582-4724-a1c5-63c97aa2cab7",
   "metadata": {},
   "source": [
    "Видна положительная динамика и по кол-ву визитов и по CR. \n",
    "Но точно ответить на вопрос все же не получится – не хватает данных. Для точного ответа нужна информация о стоимости привлечения лидов и их поведение дальше по воронке\n",
    "\n",
    "**В целом, для более точных ответов на вопросы о продукте лучше иметь полную картину о прохождении лида по воронке и знать показатели ROMI/ROI, и т.к у нас сервис подписки знание LTV тоже будет плюсом**"
   ]
  }
 ],
 "metadata": {
  "kernelspec": {
   "display_name": "Python 3 (ipykernel)",
   "language": "python",
   "name": "python3"
  },
  "language_info": {
   "codemirror_mode": {
    "name": "ipython",
    "version": 3
   },
   "file_extension": ".py",
   "mimetype": "text/x-python",
   "name": "python",
   "nbconvert_exporter": "python",
   "pygments_lexer": "ipython3",
   "version": "3.9.12"
  }
 },
 "nbformat": 4,
 "nbformat_minor": 5
}
