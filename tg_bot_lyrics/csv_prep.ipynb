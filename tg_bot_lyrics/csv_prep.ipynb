{
 "cells": [
  {
   "cell_type": "code",
   "execution_count": 1,
   "id": "12e1f4e3-4262-4242-ad9f-ce44bf89c3e7",
   "metadata": {},
   "outputs": [],
   "source": [
    "import pandas as pd\n",
    "import requests\n",
    "from bs4 import BeautifulSoup\n",
    "import time\n",
    "from datetime import datetime\n",
    "\n",
    "import sqlite3\n",
    "import re"
   ]
  },
  {
   "cell_type": "markdown",
   "id": "785d0aa7-51dc-4404-9af5-581a34170fe2",
   "metadata": {},
   "source": [
    "## Парсинг allthelyrics.com"
   ]
  },
  {
   "cell_type": "code",
   "execution_count": 2,
   "id": "6a95147b-8268-492a-8738-5216c3c3d773",
   "metadata": {},
   "outputs": [],
   "source": [
    "# функция очистки текста от лишних символов\n",
    "def replace_all(text, to_replace):\n",
    "    for symbol in to_replace:\n",
    "        text = text.replace(symbol, ' ')\n",
    "    return text"
   ]
  },
  {
   "cell_type": "code",
   "execution_count": 3,
   "id": "d9041391-b31c-4ff8-ad8b-fe9f23f6c93e",
   "metadata": {},
   "outputs": [
    {
     "name": "stdout",
     "output_type": "stream",
     "text": [
      "658\n"
     ]
    }
   ],
   "source": [
    "# ссылки на исполнителей\n",
    "urls = ['https://www.allthelyrics.com/lyrics/perfect_circle', 'https://www.allthelyrics.com/lyrics/pearl_jam',\n",
    "       'https://www.allthelyrics.com/lyrics/tool', 'https://www.allthelyrics.com/lyrics/nine_inch_nails',\n",
    "       'https://www.allthelyrics.com/lyrics/soundgarden', 'https://www.allthelyrics.com/lyrics/audioslave',\n",
    "        'https://www.allthelyrics.com/lyrics/alice_in_chains']\n",
    "\n",
    "# создадим список с ссылками на тексты\n",
    "songs_lists = []\n",
    "\n",
    "for url in urls:\n",
    "    songs_list = requests.get(url)\n",
    "    songs_soup = BeautifulSoup(songs_list.content, 'html.parser')\n",
    "\n",
    "    for line in songs_soup.find_all('a'):  # вытащим из html адреса с текстами и добавим их в список\n",
    "        if str(line).find('/lyrics/') != -1:\n",
    "            song_url = \"https://www.allthelyrics.com/\" + line['href']\n",
    "            songs_lists.append(song_url)          \n",
    "\n",
    "songs_lists = list(set(songs_lists)) # удалим дубли\n",
    "print(len(songs_lists))"
   ]
  },
  {
   "cell_type": "code",
   "execution_count": 21,
   "id": "c80250b5-d252-4f38-968e-90c95d925ff6",
   "metadata": {},
   "outputs": [],
   "source": [
    "# список с символами для удаления из текстов\n",
    "symbols_to_del = ['!', '?', '.', ',', ':', '-', '\"', '—', '  ', '–', '\\r', 'Submitted by Guest', '|', '\\xa0', '(', ')', '2x', '3x', 'x2', '[', ']', '4x', 'x6', 'x4', '*', '_', '\\n']"
   ]
  },
  {
   "cell_type": "code",
   "execution_count": 22,
   "id": "00553861-dbf8-420b-ab50-59535aac7ac3",
   "metadata": {},
   "outputs": [],
   "source": [
    "parsed_songs = {}\n",
    "\n",
    "for song in songs_lists:\n",
    "    song_url = requests.get(song)\n",
    "    song_soup = BeautifulSoup(song_url.content, 'html.parser')\n",
    "    \n",
    "    song_text = [string for string in song_soup.strings if len(string) > 2 and '\\n' in string]\n",
    "    text = ''.join(song_text)\n",
    "    text = replace_all(text, symbols_to_del) # очищаем тексты от лишних символов  \n",
    "    parsed_songs[song] = text\n",
    "    time.sleep(2) # создает интервал между действиями, чтобы нас не забанили"
   ]
  },
  {
   "cell_type": "code",
   "execution_count": 23,
   "id": "be422343-9fc5-4567-bfad-165a12f88f13",
   "metadata": {},
   "outputs": [
    {
     "data": {
      "text/plain": [
       "658"
      ]
     },
     "execution_count": 23,
     "metadata": {},
     "output_type": "execute_result"
    }
   ],
   "source": [
    "len(parsed_songs)"
   ]
  },
  {
   "cell_type": "code",
   "execution_count": 24,
   "id": "176d919b-6cab-41ff-958a-2804e8b57023",
   "metadata": {},
   "outputs": [],
   "source": [
    "parsed_songs_list = [] # создаем список с именами исполнителей и текстами\n",
    "for key, value in parsed_songs.items():\n",
    "    temp = [key,value]\n",
    "    parsed_songs_list.append(temp)"
   ]
  },
  {
   "cell_type": "code",
   "execution_count": 25,
   "id": "26a8bc46-ba60-401d-981f-7b9abd6eda32",
   "metadata": {},
   "outputs": [
    {
     "data": {
      "text/plain": [
       "[['https://www.allthelyrics.com//lyrics/perfect_circle/fiddle_and_the_drum-lyrics-489621.html',\n",
       "  \" My dear Johnny my dear friend And so once again you are fightin' us all And when I ask you why You raise your sticks and cry and I fall Oh my friend How did you come To trade the fiddle for the drum You say I have turned Like the enemies you've earned But I can remember All the good things you are And so I ask you please Can I help you find the peace and the star Oh my friend What time is this To trade the handshake for the fist And so once again Oh America my friend And so once again You are fighting us all And when we ask you why You raise your sticks and cry and we fall Oh my friend How did you come To trade the fiddle for the drum Like the enemies you've earned But we can remember All the good things you are And so we ask you please Can we help you find the peace and the star Oh my friend We have all come To fear the beating of your drum                                                         \"],\n",
       " ['https://www.allthelyrics.com//lyrics/pearl_jam/comatose_crapsoot_rapture-lyrics-831058.html',\n",
       "  \" Put me in a vacuum Free of all conditions Free of air and friction And there I will swing For all eternity Feel it rising comatose with no fear of falling Leave me in my vacuum Blood on all the pistons Running my transmission Feel it rising comatose with no fear of falling Feel It rising if it's illegal to be in love  leave the hatred on the cross for all eternity feel it rising comatose with no fear of falling feel it rising                                                         \"],\n",
       " ['https://www.allthelyrics.com//lyrics/pearl_jam/sweet_lew-lyrics-454526.html',\n",
       "  \" you can take 'em all to school you can fly wilt the stilt had nothing on you lambchops and afro do milwaukee bucks and a barbecue #33 just like you sweet lew how could you  sweet lew makin' me blue a laker trade their bobby d for a house a crew by the sea a little help from 32 showtime and worthy those were the days pre investment spree sweet lew is it true  sweet lew how could you  i grew up trying to copy you bruce lee and a kung fu acta jazzman yogi too little did i know a loose screw but you had your own shoe build him high build him tall a taiku with a basketball tear 'em down one and all 7'2 is a long way to fall sweet lew how's the view  sweet lew how could you                                                          \"]]"
      ]
     },
     "execution_count": 25,
     "metadata": {},
     "output_type": "execute_result"
    }
   ],
   "source": [
    "parsed_songs_list[3:6]"
   ]
  },
  {
   "cell_type": "code",
   "execution_count": 26,
   "id": "8a8b50d3-0d6e-4a22-82e5-eb90b6eac4ea",
   "metadata": {},
   "outputs": [],
   "source": [
    "# подготовим тексты \n",
    "text_prep_all = []\n",
    "artist_name = []\n",
    "for i in range(len(parsed_songs_list)):\n",
    "    text_prep = re.findall('[А-ЯA-Z][^А-ЯA-Z]*', parsed_songs_list[i][1]) # делим текст на строки\n",
    "    text_prep = [a.lower() for a in text_prep] # убираем заглавные буквы\n",
    "    text_prep = [a.rstrip().rstrip() for a in text_prep] # удаляем лишние пробелы\n",
    "    text_prep = [a.lstrip() for a in text_prep]\n",
    "    \n",
    "    clean_text = [] # убираем короткие и пустые строки\n",
    "    for val in text_prep:\n",
    "        if len(val) <= 10:\n",
    "            pass\n",
    "        else:\n",
    "            clean_text.append(val)\n",
    "    \n",
    "    if len(clean_text) < 4: # убираем короткие тексты\n",
    "        pass\n",
    "    else:\n",
    "        text_prep_unique = list(set(clean_text)) # оставляем уникальные строки в текстах\n",
    "        text_prep_str = '\\n'.join(text_prep_unique) # добавляем символ табуляции\n",
    "        text_prep_all.append(text_prep_str) # итоговый список с текстами\n",
    "        artist_name.append(parsed_songs_list[i][0].split('/')[5]) # список с именами исполнителей"
   ]
  },
  {
   "cell_type": "code",
   "execution_count": 27,
   "id": "120a648a-e86b-44ad-be5a-f7502878e7d4",
   "metadata": {},
   "outputs": [
    {
     "name": "stdout",
     "output_type": "stream",
     "text": [
      "(1647, 2)\n"
     ]
    },
    {
     "data": {
      "text/html": [
       "<div>\n",
       "<style scoped>\n",
       "    .dataframe tbody tr th:only-of-type {\n",
       "        vertical-align: middle;\n",
       "    }\n",
       "\n",
       "    .dataframe tbody tr th {\n",
       "        vertical-align: top;\n",
       "    }\n",
       "\n",
       "    .dataframe thead th {\n",
       "        text-align: right;\n",
       "    }\n",
       "</style>\n",
       "<table border=\"1\" class=\"dataframe\">\n",
       "  <thead>\n",
       "    <tr style=\"text-align: right;\">\n",
       "      <th></th>\n",
       "      <th>artist</th>\n",
       "      <th>text</th>\n",
       "    </tr>\n",
       "  </thead>\n",
       "  <tbody>\n",
       "    <tr>\n",
       "      <th>0</th>\n",
       "      <td>soundgarden</td>\n",
       "      <td>just a speck on the ground\\ni'm born again\\ni'...</td>\n",
       "    </tr>\n",
       "    <tr>\n",
       "      <th>1</th>\n",
       "      <td>perfect_circle</td>\n",
       "      <td>you raise your sticks and cry and\\nhow did you...</td>\n",
       "    </tr>\n",
       "    <tr>\n",
       "      <th>2</th>\n",
       "      <td>pearl_jam</td>\n",
       "      <td>free of air and friction\\nput me in a vacuum\\n...</td>\n",
       "    </tr>\n",
       "    <tr>\n",
       "      <th>3</th>\n",
       "      <td>soundgarden</td>\n",
       "      <td>long time coming\\nit seemed to satisfy\\nmany s...</td>\n",
       "    </tr>\n",
       "    <tr>\n",
       "      <th>4</th>\n",
       "      <td>perfect_circle</td>\n",
       "      <td>i works on the levee mama both night and day\\n...</td>\n",
       "    </tr>\n",
       "  </tbody>\n",
       "</table>\n",
       "</div>"
      ],
      "text/plain": [
       "           artist                                               text\n",
       "0     soundgarden  just a speck on the ground\\ni'm born again\\ni'...\n",
       "1  perfect_circle  you raise your sticks and cry and\\nhow did you...\n",
       "2       pearl_jam  free of air and friction\\nput me in a vacuum\\n...\n",
       "3     soundgarden  long time coming\\nit seemed to satisfy\\nmany s...\n",
       "4  perfect_circle  i works on the levee mama both night and day\\n..."
      ]
     },
     "execution_count": 27,
     "metadata": {},
     "output_type": "execute_result"
    }
   ],
   "source": [
    "# создадим датафрейм и сохраним в csv\n",
    "df_prepped = pd.DataFrame()\n",
    "\n",
    "\n",
    "df_prepped['text'] = text_prep_all * 3\n",
    "df_prepped['artist'] = artist_name * 3\n",
    "df_prepped = df_prepped[['artist', 'text']]\n",
    "df_prepped.to_csv('~/GIT/Projects/ML-сервис/lyrics-generator/lyrics_3.csv', index=False)\n",
    "\n",
    "\n",
    "print(df_prepped.shape)\n",
    "df_prepped.head()"
   ]
  },
  {
   "cell_type": "code",
   "execution_count": null,
   "id": "b126078e-b7e4-4091-973c-5f0a45c18d9e",
   "metadata": {},
   "outputs": [],
   "source": []
  }
 ],
 "metadata": {
  "kernelspec": {
   "display_name": "Python 3 (ipykernel)",
   "language": "python",
   "name": "python3"
  },
  "language_info": {
   "codemirror_mode": {
    "name": "ipython",
    "version": 3
   },
   "file_extension": ".py",
   "mimetype": "text/x-python",
   "name": "python",
   "nbconvert_exporter": "python",
   "pygments_lexer": "ipython3",
   "version": "3.9.12"
  }
 },
 "nbformat": 4,
 "nbformat_minor": 5
}
