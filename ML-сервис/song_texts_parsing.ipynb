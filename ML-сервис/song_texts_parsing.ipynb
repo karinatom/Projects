{
 "cells": [
  {
   "cell_type": "code",
   "execution_count": 1,
   "id": "12e1f4e3-4262-4242-ad9f-ce44bf89c3e7",
   "metadata": {},
   "outputs": [],
   "source": [
    "import pandas as pd\n",
    "import requests\n",
    "from bs4 import BeautifulSoup\n",
    "import time\n",
    "from datetime import datetime\n",
    "\n",
    "import sqlite3\n",
    "import re"
   ]
  },
  {
   "cell_type": "markdown",
   "id": "c2a4b07a-5648-4293-8ab5-a1fe21bdc335",
   "metadata": {},
   "source": [
    "# Парсинг сайта и настройка базы данных"
   ]
  },
  {
   "cell_type": "markdown",
   "id": "785d0aa7-51dc-4404-9af5-581a34170fe2",
   "metadata": {},
   "source": [
    "## 1. Парсинг"
   ]
  },
  {
   "cell_type": "code",
   "execution_count": 2,
   "id": "6a95147b-8268-492a-8738-5216c3c3d773",
   "metadata": {},
   "outputs": [],
   "source": [
    "# функция очистки текста от лишних символов\n",
    "def replace_all(text, to_replace):\n",
    "    for symbol in to_replace:\n",
    "        text = text.replace(symbol, ' ')\n",
    "    return text"
   ]
  },
  {
   "cell_type": "code",
   "execution_count": 3,
   "id": "d9041391-b31c-4ff8-ad8b-fe9f23f6c93e",
   "metadata": {},
   "outputs": [
    {
     "name": "stdout",
     "output_type": "stream",
     "text": [
      "1637\n"
     ]
    }
   ],
   "source": [
    "# ссылки на исполнителей\n",
    "urls = ['https://txtsong.ru/krovostok/', 'https://txtsong.ru/xaski/', 'https://txtsong.ru/elektroforez/', 'https://txtsong.ru/molchat-doma/', 'https://txtsong.ru/durnoj-vkus/', 'https://txtsong.ru/akvarium/',\n",
    "       'https://txtsong.ru/skriptonit/', 'https://txtsong.ru/splin/', 'https://txtsong.ru/zemfira/', 'https://txtsong.ru/smoki-mo/', 'https://txtsong.ru/maslo-chernogo-tmina/', 'https://txtsong.ru/2h-company/',\n",
    "        'https://txtsong.ru/buerak/', 'https://txtsong.ru/agata-kristi/', 'https://txtsong.ru/akvarium/', 'https://txtsong.ru/srub/', 'https://txtsong.ru/aleksandr-f-sklyar/', 'https://txtsong.ru/yanka-dyagileva/',\n",
    "       'https://txtsong.ru/green-apelsin/', 'https://txtsong.ru/korol-i-shut/', 'https://txtsong.ru/ic3peak/', 'https://txtsong.ru/grechka/']\n",
    "\n",
    "# создадим список с ссылками на тексты\n",
    "songs_lists = []\n",
    "\n",
    "for url in urls:\n",
    "    songs_list = requests.get(url)\n",
    "    songs_soup = BeautifulSoup(songs_list.content, 'html.parser')\n",
    "\n",
    "    for line in songs_soup.find_all('a'):  # вытащим из html адреса с текстами и добавим их в список\n",
    "        if str(line).find(url[19:]) != -1 and str(line).find('/page/') == -1:\n",
    "            song_url = line['href']\n",
    "            songs_lists.append(song_url)\n",
    "\n",
    "songs_lists = list(set(songs_lists)) # удалим дубли\n",
    "print(len(songs_lists))"
   ]
  },
  {
   "cell_type": "code",
   "execution_count": 4,
   "id": "c6483330-800f-4dab-84db-7f73b4505cca",
   "metadata": {},
   "outputs": [
    {
     "data": {
      "text/plain": [
       "['https://txtsong.ru/grechka/grechka-vy-zhalkie/',\n",
       " 'https://txtsong.ru/skriptonit/rajda-skriptonit-truwer-zhenshhiny/',\n",
       " 'https://txtsong.ru/splin/splin-moya-lyubov/',\n",
       " 'https://txtsong.ru/korol-i-shut/korol-i-shut-mest-garri/',\n",
       " 'https://txtsong.ru/skriptonit/niman-skriptonit-kali-4-20/']"
      ]
     },
     "execution_count": 4,
     "metadata": {},
     "output_type": "execute_result"
    }
   ],
   "source": [
    "songs_lists[0:5]"
   ]
  },
  {
   "cell_type": "code",
   "execution_count": 8,
   "id": "c80250b5-d252-4f38-968e-90c95d925ff6",
   "metadata": {},
   "outputs": [],
   "source": [
    "# список с символами для удаления из текстов\n",
    "symbols_to_del = ['!', '?', '.', ',', ':', '-', '\"', '—', '  ', '–', '“', '“', '<p>', '<br/>', '</br>', '<br>', '</p>', '\\n', '(', ')', '«', '»', '\\u2005', '\\u205f', '\\xa0', '</em>', '<em>', '\\\\', 'u200', '<ul>', '<li>', '</li>', '</ul>', \"<  Yandex RTB R A 1318229 42  > <div id= yandex_rtb_R A 1318229 42 ></div> <script>window yaContextCb push   =>{  Ya Context AdvManager render {   renderTo 'yandex_rtb_R A 1318229 42'    blockId 'R A 1318229 42'  }  } </script>\"]"
   ]
  },
  {
   "cell_type": "code",
   "execution_count": 9,
   "id": "00553861-dbf8-420b-ab50-59535aac7ac3",
   "metadata": {},
   "outputs": [],
   "source": [
    "parsed_songs = {}\n",
    "\n",
    "for song in songs_lists:\n",
    "    song_url = requests.get(song)\n",
    "    song_soup = BeautifulSoup(song_url.content, 'html.parser')\n",
    "    song_text = str(song_soup.find_all('p')[4]) # находим нужную часть с текстом\n",
    "    song_text = replace_all(song_text, symbols_to_del)  # очищаем тексты от лишних символов  \n",
    "    song_text = song_text.rstrip().lstrip() # убираем лишние пробелы в начале и в конце\n",
    "    parsed_songs[song] = song_text\n",
    "    time.sleep(1) # создает интервал между действиями, чтобы нас не забанили"
   ]
  },
  {
   "cell_type": "code",
   "execution_count": 10,
   "id": "1dc8365b-ad7e-446b-8f13-26240f056df8",
   "metadata": {},
   "outputs": [
    {
     "data": {
      "text/plain": [
       "1637"
      ]
     },
     "execution_count": 10,
     "metadata": {},
     "output_type": "execute_result"
    }
   ],
   "source": [
    "len(parsed_songs)"
   ]
  },
  {
   "cell_type": "code",
   "execution_count": 13,
   "id": "24f43c19-7608-4e8d-9ac0-30694cab3bb8",
   "metadata": {},
   "outputs": [],
   "source": [
    "#parsed_songs"
   ]
  },
  {
   "cell_type": "markdown",
   "id": "a6ad48d2-64c5-45c7-9be6-553cf20c852f",
   "metadata": {},
   "source": [
    "## 2. Работа с БД"
   ]
  },
  {
   "cell_type": "code",
   "execution_count": 6,
   "id": "2b15ece2-5077-44cb-afd8-a3c0dc94ffb9",
   "metadata": {},
   "outputs": [],
   "source": [
    "con = sqlite3.connect('songs.db') # создаем локальную базу данных"
   ]
  },
  {
   "cell_type": "code",
   "execution_count": 15,
   "id": "2131e26c-d407-4aab-a2b1-e66b3487c6e7",
   "metadata": {},
   "outputs": [],
   "source": [
    "cur = con.cursor()\n",
    "cur.execute('CREATE TABLE song_texts2(author, text, url, date)') # создаем таблицу\n",
    "res = cur.execute('SELECT name FROM sqlite_master')\n",
    "res.fetchone() # проерим создалась ли таблица\n",
    "\n",
    "for k, v in parsed_songs.items():   # перебираем ключи и значения и записываем их в таблицу\n",
    "\n",
    "    sql_insert = \"\"\"\n",
    "                    INSERT INTO song_texts2 (author, text, url, date)\n",
    "                    VALUES ('{}', '{}', '{}', '{}')\n",
    "                    \"\"\".format(k.split('/')[3], v, k, datetime.today())\n",
    "\n",
    "    res = cur.execute(sql_insert)\n",
    "    con.commit()\n",
    "    \n",
    "res = cur.execute('SELECT * FROM song_texts2')\n",
    "result = res.fetchall()"
   ]
  },
  {
   "cell_type": "code",
   "execution_count": 16,
   "id": "7f158e07-5341-457f-b3af-273455223550",
   "metadata": {},
   "outputs": [
    {
     "data": {
      "text/plain": [
       "('grechka',\n",
       " 'Слухи сплетни город мал   Ты просто сидишь никого не обидев;  Но каждый в округе знает что ты   Дура тупая и шкура простая;  Ты дура тупая и шкура простая      Вот так в пяти словах о тебе   Ты даже не дышишь не ешь и не пьёшь   Для этих людей по словам от других   Дура тупая и шкура простая;  Ты дура тупая и шкура простая      И пусть ты просто парня отшила;  И пусть ты просто лучше других   Неважно народу в этой округе   Ведь ты дура тупая и шкура простая   Ты дура тупая и шкура простая    Вот так в пяти словах о тебе   Ты даже не дышишь не ешь и не пьешь   Для этих людей по словам от других      Ты дура тупая и шкура простая;  Ты дура тупая и шкура простая;  Ты дура тупая и шкура простая;  Ты дура тупая и шкура простая      Если вдруг кто то меня недопонял   То песня об этих уродах тупых   Что сплетни о других несут в народы   Вы жалкие крысы съешьте свой пыл',\n",
       " 'https://txtsong.ru/grechka/grechka-vy-zhalkie/',\n",
       " '2023-01-31 20:45:03.066345')"
      ]
     },
     "execution_count": 16,
     "metadata": {},
     "output_type": "execute_result"
    }
   ],
   "source": [
    "result[0]"
   ]
  },
  {
   "cell_type": "code",
   "execution_count": 17,
   "id": "a783f8a8-1dbe-420d-8dbe-96f257de55cb",
   "metadata": {
    "tags": []
   },
   "outputs": [],
   "source": [
    "# подготовим тексты \n",
    "text_prep_all = []\n",
    "artist_name = []\n",
    "for i in range(len(result)):\n",
    "    text_prep = re.findall('[А-ЯA-Z][^А-ЯA-Z]*', result[i][1]) # делим текст на строки\n",
    "    text_prep = [a.lower() for a in text_prep] # убираем заглавные буквы\n",
    "    text_prep = [a.rstrip().rstrip() for a in text_prep] # удаляем лишние пробелы\n",
    "    text_prep = [a.lstrip() for a in text_prep]\n",
    "    \n",
    "    clean_text = [] # убираем короткие и пустые строки\n",
    "    for val in text_prep:\n",
    "        if len(val) <= 10:\n",
    "            pass\n",
    "        else:\n",
    "            clean_text.append(val)\n",
    "    \n",
    "    if len(clean_text) < 4: # убираем короткие тексты\n",
    "        pass\n",
    "    else:\n",
    "        text_prep_unique = list(set(clean_text)) # оставляем уникальные строки в текстах\n",
    "        text_prep_str = '\\n'.join(text_prep_unique) # добавляем символ табуляции\n",
    "        text_prep_all.append(text_prep_str) # итоговый список с текстами\n",
    "        artist_name.append(result[i][0]) # список с именами исполнителей"
   ]
  },
  {
   "cell_type": "code",
   "execution_count": 18,
   "id": "120a648a-e86b-44ad-be5a-f7502878e7d4",
   "metadata": {},
   "outputs": [
    {
     "name": "stdout",
     "output_type": "stream",
     "text": [
      "(4860, 2)\n"
     ]
    },
    {
     "data": {
      "text/html": [
       "<div>\n",
       "<style scoped>\n",
       "    .dataframe tbody tr th:only-of-type {\n",
       "        vertical-align: middle;\n",
       "    }\n",
       "\n",
       "    .dataframe tbody tr th {\n",
       "        vertical-align: top;\n",
       "    }\n",
       "\n",
       "    .dataframe thead th {\n",
       "        text-align: right;\n",
       "    }\n",
       "</style>\n",
       "<table border=\"1\" class=\"dataframe\">\n",
       "  <thead>\n",
       "    <tr style=\"text-align: right;\">\n",
       "      <th></th>\n",
       "      <th>artist</th>\n",
       "      <th>text</th>\n",
       "    </tr>\n",
       "  </thead>\n",
       "  <tbody>\n",
       "    <tr>\n",
       "      <th>0</th>\n",
       "      <td>grechka</td>\n",
       "      <td>то песня об этих уродах тупых\\nвы жалкие крысы...</td>\n",
       "    </tr>\n",
       "    <tr>\n",
       "      <th>1</th>\n",
       "      <td>skriptonit</td>\n",
       "      <td>нас не найти к черту условности\\nсеверном полю...</td>\n",
       "    </tr>\n",
       "    <tr>\n",
       "      <th>2</th>\n",
       "      <td>splin</td>\n",
       "      <td>и никомy не довеpяй ключи от дома не клянись н...</td>\n",
       "    </tr>\n",
       "    <tr>\n",
       "      <th>3</th>\n",
       "      <td>korol-i-shut</td>\n",
       "      <td>гарри нам удружил  в еду мерзавец яду подложил...</td>\n",
       "    </tr>\n",
       "    <tr>\n",
       "      <th>4</th>\n",
       "      <td>skriptonit</td>\n",
       "      <td>слово в цене как и раньше превыше всех цацек\\n...</td>\n",
       "    </tr>\n",
       "  </tbody>\n",
       "</table>\n",
       "</div>"
      ],
      "text/plain": [
       "         artist                                               text\n",
       "0       grechka  то песня об этих уродах тупых\\nвы жалкие крысы...\n",
       "1    skriptonit  нас не найти к черту условности\\nсеверном полю...\n",
       "2         splin  и никомy не довеpяй ключи от дома не клянись н...\n",
       "3  korol-i-shut  гарри нам удружил  в еду мерзавец яду подложил...\n",
       "4    skriptonit  слово в цене как и раньше превыше всех цацек\\n..."
      ]
     },
     "execution_count": 18,
     "metadata": {},
     "output_type": "execute_result"
    }
   ],
   "source": [
    "# создадим датафрейм и сохраним в csv\n",
    "df_prepped = pd.DataFrame()\n",
    "\n",
    "\n",
    "df_prepped['text'] = text_prep_all * 3\n",
    "df_prepped['artist'] = artist_name * 3\n",
    "df_prepped = df_prepped[['artist', 'text']]\n",
    "df_prepped.to_csv('~/GIT/Projects/ML-сервис/lyrics-generator/dif_texts_6.csv', index=False)\n",
    "\n",
    "\n",
    "print(df_prepped.shape)\n",
    "df_prepped.head()"
   ]
  },
  {
   "cell_type": "code",
   "execution_count": null,
   "id": "c45aee2b-7518-4395-9358-2e9d94ce9c65",
   "metadata": {},
   "outputs": [],
   "source": []
  }
 ],
 "metadata": {
  "kernelspec": {
   "display_name": "Python 3 (ipykernel)",
   "language": "python",
   "name": "python3"
  },
  "language_info": {
   "codemirror_mode": {
    "name": "ipython",
    "version": 3
   },
   "file_extension": ".py",
   "mimetype": "text/x-python",
   "name": "python",
   "nbconvert_exporter": "python",
   "pygments_lexer": "ipython3",
   "version": "3.9.12"
  }
 },
 "nbformat": 4,
 "nbformat_minor": 5
}
